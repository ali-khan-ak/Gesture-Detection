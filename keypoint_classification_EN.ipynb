{
 "cells": [
  {
   "cell_type": "code",
   "execution_count": 59,
   "metadata": {
    "id": "igMyGnjE9hEp"
   },
   "outputs": [],
   "source": [
    "import csv\n",
    "\n",
    "import numpy as np\n",
    "import tensorflow as tf\n",
    "from sklearn.model_selection import train_test_split\n",
    "\n",
    "RANDOM_SEED = 42"
   ]
  },
  {
   "cell_type": "markdown",
   "metadata": {
    "id": "t2HDvhIu9hEr"
   },
   "source": [
    "# Specify each path"
   ]
  },
  {
   "cell_type": "code",
   "execution_count": 60,
   "metadata": {
    "id": "9NvZP2Zn9hEy"
   },
   "outputs": [],
   "source": [
    "dataset = 'model/keypoint_classifier/keypoint.csv'\n",
    "model_save_path = 'model/keypoint_classifier/keypoint_classifier.hdf5'\n",
    "tflite_save_path = 'model/keypoint_classifier/keypoint_classifier.tflite'"
   ]
  },
  {
   "cell_type": "markdown",
   "metadata": {
    "id": "s5oMH7x19hEz"
   },
   "source": [
    "# Set number of classes"
   ]
  },
  {
   "cell_type": "code",
   "execution_count": 61,
   "metadata": {
    "id": "du4kodXL9hEz"
   },
   "outputs": [],
   "source": [
    "NUM_CLASSES = 8"
   ]
  },
  {
   "cell_type": "markdown",
   "metadata": {
    "id": "XjnL0uso9hEz"
   },
   "source": [
    "# Dataset reading"
   ]
  },
  {
   "cell_type": "code",
   "execution_count": 62,
   "metadata": {
    "id": "QT5ZqtEz9hE0"
   },
   "outputs": [],
   "source": [
    "X_dataset = np.loadtxt(dataset, delimiter=',', dtype='float32', usecols=list(range(1, (21 * 2) + 1)))"
   ]
  },
  {
   "cell_type": "code",
   "execution_count": 63,
   "metadata": {
    "id": "QmoKFsp49hE0"
   },
   "outputs": [],
   "source": [
    "y_dataset = np.loadtxt(dataset, delimiter=',', dtype='int32', usecols=(0))"
   ]
  },
  {
   "cell_type": "code",
   "execution_count": 64,
   "metadata": {
    "id": "xQU7JTZ_9hE0"
   },
   "outputs": [],
   "source": [
    "X_train, X_test, y_train, y_test = train_test_split(X_dataset, y_dataset, train_size=0.75, random_state=RANDOM_SEED)"
   ]
  },
  {
   "cell_type": "markdown",
   "metadata": {
    "id": "mxK_lETT9hE0"
   },
   "source": [
    "# Model building"
   ]
  },
  {
   "cell_type": "code",
   "execution_count": 65,
   "metadata": {
    "id": "vHBmUf1t9hE1"
   },
   "outputs": [],
   "source": [
    "model = tf.keras.models.Sequential([\n",
    "    tf.keras.layers.Input((21 * 2, )),\n",
    "    tf.keras.layers.Dropout(0.2),\n",
    "    tf.keras.layers.Dense(20, activation='relu'),\n",
    "    tf.keras.layers.Dropout(0.4),\n",
    "    tf.keras.layers.Dense(10, activation='relu'),\n",
    "    tf.keras.layers.Dense(NUM_CLASSES, activation='softmax')\n",
    "])"
   ]
  },
  {
   "cell_type": "code",
   "execution_count": 66,
   "metadata": {
    "colab": {
     "base_uri": "https://localhost:8080/"
    },
    "id": "ypqky9tc9hE1",
    "outputId": "5db082bb-30e3-4110-bf63-a1ee777ecd46"
   },
   "outputs": [
    {
     "name": "stdout",
     "output_type": "stream",
     "text": [
      "Model: \"sequential_3\"\n",
      "_________________________________________________________________\n",
      " Layer (type)                Output Shape              Param #   \n",
      "=================================================================\n",
      " dropout_6 (Dropout)         (None, 42)                0         \n",
      "                                                                 \n",
      " dense_9 (Dense)             (None, 20)                860       \n",
      "                                                                 \n",
      " dropout_7 (Dropout)         (None, 20)                0         \n",
      "                                                                 \n",
      " dense_10 (Dense)            (None, 10)                210       \n",
      "                                                                 \n",
      " dense_11 (Dense)            (None, 8)                 88        \n",
      "                                                                 \n",
      "=================================================================\n",
      "Total params: 1,158\n",
      "Trainable params: 1,158\n",
      "Non-trainable params: 0\n",
      "_________________________________________________________________\n"
     ]
    }
   ],
   "source": [
    "model.summary()  # tf.keras.utils.plot_model(model, show_shapes=True)"
   ]
  },
  {
   "cell_type": "code",
   "execution_count": 67,
   "metadata": {
    "id": "MbMjOflQ9hE1"
   },
   "outputs": [],
   "source": [
    "# Model checkpoint callback\n",
    "cp_callback = tf.keras.callbacks.ModelCheckpoint(\n",
    "    model_save_path, verbose=1, save_weights_only=False)\n",
    "# Callback for early stopping\n",
    "es_callback = tf.keras.callbacks.EarlyStopping(patience=20, verbose=1)"
   ]
  },
  {
   "cell_type": "code",
   "execution_count": 68,
   "metadata": {
    "id": "c3Dac0M_9hE2"
   },
   "outputs": [],
   "source": [
    "# Model compilation\n",
    "model.compile(\n",
    "    optimizer='adam',\n",
    "    loss='sparse_categorical_crossentropy',\n",
    "    metrics=['accuracy']\n",
    ")"
   ]
  },
  {
   "cell_type": "markdown",
   "metadata": {
    "id": "7XI0j1Iu9hE2"
   },
   "source": [
    "# Model training"
   ]
  },
  {
   "cell_type": "code",
   "execution_count": 69,
   "metadata": {
    "colab": {
     "base_uri": "https://localhost:8080/"
    },
    "id": "WirBl-JE9hE3",
    "outputId": "71b30ca2-8294-4d9d-8aa2-800d90d399de",
    "scrolled": true
   },
   "outputs": [
    {
     "name": "stdout",
     "output_type": "stream",
     "text": [
      "Epoch 1/1000\n",
      "22/32 [===================>..........] - ETA: 0s - loss: 1.9946 - accuracy: 0.1737\n",
      "Epoch 1: saving model to model/keypoint_classifier\\keypoint_classifier.hdf5\n",
      "32/32 [==============================] - 2s 18ms/step - loss: 1.9634 - accuracy: 0.1856 - val_loss: 1.8486 - val_accuracy: 0.2570\n",
      "Epoch 2/1000\n",
      "22/32 [===================>..........] - ETA: 0s - loss: 1.8112 - accuracy: 0.2422\n",
      "Epoch 2: saving model to model/keypoint_classifier\\keypoint_classifier.hdf5\n",
      "32/32 [==============================] - 0s 10ms/step - loss: 1.7944 - accuracy: 0.2527 - val_loss: 1.7027 - val_accuracy: 0.2768\n",
      "Epoch 3/1000\n",
      "27/32 [========================>.....] - ETA: 0s - loss: 1.7043 - accuracy: 0.3035\n",
      "Epoch 3: saving model to model/keypoint_classifier\\keypoint_classifier.hdf5\n",
      "32/32 [==============================] - 0s 9ms/step - loss: 1.6930 - accuracy: 0.3097 - val_loss: 1.5897 - val_accuracy: 0.4288\n",
      "Epoch 4/1000\n",
      "23/32 [====================>.........] - ETA: 0s - loss: 1.6226 - accuracy: 0.3665\n",
      "Epoch 4: saving model to model/keypoint_classifier\\keypoint_classifier.hdf5\n",
      "32/32 [==============================] - 0s 8ms/step - loss: 1.6092 - accuracy: 0.3734 - val_loss: 1.5053 - val_accuracy: 0.4457\n",
      "Epoch 5/1000\n",
      "27/32 [========================>.....] - ETA: 0s - loss: 1.5347 - accuracy: 0.4091\n",
      "Epoch 5: saving model to model/keypoint_classifier\\keypoint_classifier.hdf5\n",
      "32/32 [==============================] - 0s 9ms/step - loss: 1.5333 - accuracy: 0.4043 - val_loss: 1.4297 - val_accuracy: 0.4787\n",
      "Epoch 6/1000\n",
      "29/32 [==========================>...] - ETA: 0s - loss: 1.4758 - accuracy: 0.4197\n",
      "Epoch 6: saving model to model/keypoint_classifier\\keypoint_classifier.hdf5\n",
      "32/32 [==============================] - 0s 8ms/step - loss: 1.4767 - accuracy: 0.4185 - val_loss: 1.3550 - val_accuracy: 0.5081\n",
      "Epoch 7/1000\n",
      "29/32 [==========================>...] - ETA: 0s - loss: 1.4347 - accuracy: 0.4324\n",
      "Epoch 7: saving model to model/keypoint_classifier\\keypoint_classifier.hdf5\n",
      "32/32 [==============================] - 0s 8ms/step - loss: 1.4307 - accuracy: 0.4339 - val_loss: 1.2904 - val_accuracy: 0.5514\n",
      "Epoch 8/1000\n",
      "26/32 [=======================>......] - ETA: 0s - loss: 1.3902 - accuracy: 0.4420\n",
      "Epoch 8: saving model to model/keypoint_classifier\\keypoint_classifier.hdf5\n",
      "32/32 [==============================] - 0s 9ms/step - loss: 1.3895 - accuracy: 0.4496 - val_loss: 1.2299 - val_accuracy: 0.5866\n",
      "Epoch 9/1000\n",
      "31/32 [============================>.] - ETA: 0s - loss: 1.3437 - accuracy: 0.4710\n",
      "Epoch 9: saving model to model/keypoint_classifier\\keypoint_classifier.hdf5\n",
      "32/32 [==============================] - 0s 8ms/step - loss: 1.3396 - accuracy: 0.4726 - val_loss: 1.1797 - val_accuracy: 0.6101\n",
      "Epoch 10/1000\n",
      "25/32 [======================>.......] - ETA: 0s - loss: 1.2979 - accuracy: 0.4853\n",
      "Epoch 10: saving model to model/keypoint_classifier\\keypoint_classifier.hdf5\n",
      "32/32 [==============================] - 0s 9ms/step - loss: 1.3001 - accuracy: 0.4856 - val_loss: 1.1203 - val_accuracy: 0.6351\n",
      "Epoch 11/1000\n",
      "26/32 [=======================>......] - ETA: 0s - loss: 1.2682 - accuracy: 0.4994\n",
      "Epoch 11: saving model to model/keypoint_classifier\\keypoint_classifier.hdf5\n",
      "32/32 [==============================] - 0s 8ms/step - loss: 1.2674 - accuracy: 0.4990 - val_loss: 1.0714 - val_accuracy: 0.6527\n",
      "Epoch 12/1000\n",
      "31/32 [============================>.] - ETA: 0s - loss: 1.2373 - accuracy: 0.5050\n",
      "Epoch 12: saving model to model/keypoint_classifier\\keypoint_classifier.hdf5\n",
      "32/32 [==============================] - 0s 8ms/step - loss: 1.2340 - accuracy: 0.5069 - val_loss: 1.0231 - val_accuracy: 0.6637\n",
      "Epoch 13/1000\n",
      "25/32 [======================>.......] - ETA: 0s - loss: 1.1952 - accuracy: 0.5219\n",
      "Epoch 13: saving model to model/keypoint_classifier\\keypoint_classifier.hdf5\n",
      "32/32 [==============================] - 0s 8ms/step - loss: 1.1984 - accuracy: 0.5218 - val_loss: 0.9822 - val_accuracy: 0.7173\n",
      "Epoch 14/1000\n",
      "23/32 [====================>.........] - ETA: 0s - loss: 1.1743 - accuracy: 0.5306\n",
      "Epoch 14: saving model to model/keypoint_classifier\\keypoint_classifier.hdf5\n",
      "32/32 [==============================] - 0s 9ms/step - loss: 1.1768 - accuracy: 0.5299 - val_loss: 0.9462 - val_accuracy: 0.7401\n",
      "Epoch 15/1000\n",
      "27/32 [========================>.....] - ETA: 0s - loss: 1.1615 - accuracy: 0.5286\n",
      "Epoch 15: saving model to model/keypoint_classifier\\keypoint_classifier.hdf5\n",
      "32/32 [==============================] - 0s 9ms/step - loss: 1.1575 - accuracy: 0.5269 - val_loss: 0.9113 - val_accuracy: 0.7386\n",
      "Epoch 16/1000\n",
      "26/32 [=======================>......] - ETA: 0s - loss: 1.1364 - accuracy: 0.5466\n",
      "Epoch 16: saving model to model/keypoint_classifier\\keypoint_classifier.hdf5\n",
      "32/32 [==============================] - 0s 9ms/step - loss: 1.1259 - accuracy: 0.5492 - val_loss: 0.8811 - val_accuracy: 0.7460\n",
      "Epoch 17/1000\n",
      "27/32 [========================>.....] - ETA: 0s - loss: 1.1252 - accuracy: 0.5556\n",
      "Epoch 17: saving model to model/keypoint_classifier\\keypoint_classifier.hdf5\n",
      "32/32 [==============================] - 0s 8ms/step - loss: 1.1223 - accuracy: 0.5563 - val_loss: 0.8573 - val_accuracy: 0.7533\n",
      "Epoch 18/1000\n",
      "16/32 [==============>...............] - ETA: 0s - loss: 1.1002 - accuracy: 0.5674\n",
      "Epoch 18: saving model to model/keypoint_classifier\\keypoint_classifier.hdf5\n",
      "32/32 [==============================] - 0s 8ms/step - loss: 1.0912 - accuracy: 0.5681 - val_loss: 0.8321 - val_accuracy: 0.7577\n",
      "Epoch 19/1000\n",
      "28/32 [=========================>....] - ETA: 0s - loss: 1.0731 - accuracy: 0.5670\n",
      "Epoch 19: saving model to model/keypoint_classifier\\keypoint_classifier.hdf5\n",
      "32/32 [==============================] - 0s 9ms/step - loss: 1.0792 - accuracy: 0.5656 - val_loss: 0.8091 - val_accuracy: 0.7783\n",
      "Epoch 20/1000\n",
      "27/32 [========================>.....] - ETA: 0s - loss: 1.0726 - accuracy: 0.5778\n",
      "Epoch 20: saving model to model/keypoint_classifier\\keypoint_classifier.hdf5\n",
      "32/32 [==============================] - 0s 9ms/step - loss: 1.0710 - accuracy: 0.5766 - val_loss: 0.7896 - val_accuracy: 0.7665\n",
      "Epoch 21/1000\n",
      "31/32 [============================>.] - ETA: 0s - loss: 1.0595 - accuracy: 0.5857\n",
      "Epoch 21: saving model to model/keypoint_classifier\\keypoint_classifier.hdf5\n",
      "32/32 [==============================] - 0s 8ms/step - loss: 1.0580 - accuracy: 0.5867 - val_loss: 0.7672 - val_accuracy: 0.7849\n",
      "Epoch 22/1000\n",
      "29/32 [==========================>...] - ETA: 0s - loss: 1.0411 - accuracy: 0.5973\n",
      "Epoch 22: saving model to model/keypoint_classifier\\keypoint_classifier.hdf5\n",
      "32/32 [==============================] - 0s 8ms/step - loss: 1.0468 - accuracy: 0.5930 - val_loss: 0.7539 - val_accuracy: 0.7981\n",
      "Epoch 23/1000\n",
      "28/32 [=========================>....] - ETA: 0s - loss: 1.0108 - accuracy: 0.6102\n",
      "Epoch 23: saving model to model/keypoint_classifier\\keypoint_classifier.hdf5\n",
      "32/32 [==============================] - 0s 9ms/step - loss: 1.0091 - accuracy: 0.6109 - val_loss: 0.7323 - val_accuracy: 0.8098\n",
      "Epoch 24/1000\n",
      "29/32 [==========================>...] - ETA: 0s - loss: 1.0046 - accuracy: 0.6094\n",
      "Epoch 24: saving model to model/keypoint_classifier\\keypoint_classifier.hdf5\n",
      "32/32 [==============================] - 0s 8ms/step - loss: 1.0028 - accuracy: 0.6109 - val_loss: 0.7090 - val_accuracy: 0.8135\n",
      "Epoch 25/1000\n",
      "26/32 [=======================>......] - ETA: 0s - loss: 1.0024 - accuracy: 0.6088\n",
      "Epoch 25: saving model to model/keypoint_classifier\\keypoint_classifier.hdf5\n",
      "32/32 [==============================] - 0s 9ms/step - loss: 1.0032 - accuracy: 0.6053 - val_loss: 0.6980 - val_accuracy: 0.8326\n",
      "Epoch 26/1000\n",
      "28/32 [=========================>....] - ETA: 0s - loss: 0.9962 - accuracy: 0.6105\n",
      "Epoch 26: saving model to model/keypoint_classifier\\keypoint_classifier.hdf5\n",
      "32/32 [==============================] - 0s 9ms/step - loss: 0.9889 - accuracy: 0.6109 - val_loss: 0.6874 - val_accuracy: 0.8245\n",
      "Epoch 27/1000\n",
      "32/32 [==============================] - ETA: 0s - loss: 0.9721 - accuracy: 0.6239\n",
      "Epoch 27: saving model to model/keypoint_classifier\\keypoint_classifier.hdf5\n",
      "32/32 [==============================] - 0s 7ms/step - loss: 0.9721 - accuracy: 0.6239 - val_loss: 0.6734 - val_accuracy: 0.8421\n",
      "Epoch 28/1000\n"
     ]
    },
    {
     "name": "stdout",
     "output_type": "stream",
     "text": [
      "32/32 [==============================] - ETA: 0s - loss: 0.9497 - accuracy: 0.6295\n",
      "Epoch 28: saving model to model/keypoint_classifier\\keypoint_classifier.hdf5\n",
      "32/32 [==============================] - 0s 8ms/step - loss: 0.9497 - accuracy: 0.6295 - val_loss: 0.6566 - val_accuracy: 0.8458\n",
      "Epoch 29/1000\n",
      "26/32 [=======================>......] - ETA: 0s - loss: 0.9417 - accuracy: 0.6241\n",
      "Epoch 29: saving model to model/keypoint_classifier\\keypoint_classifier.hdf5\n",
      "32/32 [==============================] - 0s 9ms/step - loss: 0.9420 - accuracy: 0.6237 - val_loss: 0.6423 - val_accuracy: 0.8392\n",
      "Epoch 30/1000\n",
      "28/32 [=========================>....] - ETA: 0s - loss: 0.9509 - accuracy: 0.6183\n",
      "Epoch 30: saving model to model/keypoint_classifier\\keypoint_classifier.hdf5\n",
      "32/32 [==============================] - 0s 8ms/step - loss: 0.9440 - accuracy: 0.6210 - val_loss: 0.6387 - val_accuracy: 0.8429\n",
      "Epoch 31/1000\n",
      "29/32 [==========================>...] - ETA: 0s - loss: 0.9220 - accuracy: 0.6401\n",
      "Epoch 31: saving model to model/keypoint_classifier\\keypoint_classifier.hdf5\n",
      "32/32 [==============================] - 0s 8ms/step - loss: 0.9216 - accuracy: 0.6413 - val_loss: 0.6210 - val_accuracy: 0.8488\n",
      "Epoch 32/1000\n",
      "29/32 [==========================>...] - ETA: 0s - loss: 0.9355 - accuracy: 0.6342\n",
      "Epoch 32: saving model to model/keypoint_classifier\\keypoint_classifier.hdf5\n",
      "32/32 [==============================] - 0s 8ms/step - loss: 0.9352 - accuracy: 0.6322 - val_loss: 0.6140 - val_accuracy: 0.8510\n",
      "Epoch 33/1000\n",
      "29/32 [==========================>...] - ETA: 0s - loss: 0.9444 - accuracy: 0.6266\n",
      "Epoch 33: saving model to model/keypoint_classifier\\keypoint_classifier.hdf5\n",
      "32/32 [==============================] - 0s 8ms/step - loss: 0.9465 - accuracy: 0.6259 - val_loss: 0.6101 - val_accuracy: 0.8546\n",
      "Epoch 34/1000\n",
      "30/32 [===========================>..] - ETA: 0s - loss: 0.9513 - accuracy: 0.6237\n",
      "Epoch 34: saving model to model/keypoint_classifier\\keypoint_classifier.hdf5\n",
      "32/32 [==============================] - 0s 8ms/step - loss: 0.9471 - accuracy: 0.6249 - val_loss: 0.6100 - val_accuracy: 0.8546\n",
      "Epoch 35/1000\n",
      "27/32 [========================>.....] - ETA: 0s - loss: 0.9157 - accuracy: 0.6409\n",
      "Epoch 35: saving model to model/keypoint_classifier\\keypoint_classifier.hdf5\n",
      "32/32 [==============================] - 0s 9ms/step - loss: 0.9165 - accuracy: 0.6398 - val_loss: 0.6021 - val_accuracy: 0.8627\n",
      "Epoch 36/1000\n",
      "28/32 [=========================>....] - ETA: 0s - loss: 0.9113 - accuracy: 0.6448\n",
      "Epoch 36: saving model to model/keypoint_classifier\\keypoint_classifier.hdf5\n",
      "32/32 [==============================] - 0s 8ms/step - loss: 0.9116 - accuracy: 0.6430 - val_loss: 0.5832 - val_accuracy: 0.8576\n",
      "Epoch 37/1000\n",
      "31/32 [============================>.] - ETA: 0s - loss: 0.8935 - accuracy: 0.6663\n",
      "Epoch 37: saving model to model/keypoint_classifier\\keypoint_classifier.hdf5\n",
      "32/32 [==============================] - 0s 8ms/step - loss: 0.8930 - accuracy: 0.6672 - val_loss: 0.5766 - val_accuracy: 0.8612\n",
      "Epoch 38/1000\n",
      "26/32 [=======================>......] - ETA: 0s - loss: 0.9012 - accuracy: 0.6602\n",
      "Epoch 38: saving model to model/keypoint_classifier\\keypoint_classifier.hdf5\n",
      "32/32 [==============================] - 0s 9ms/step - loss: 0.8930 - accuracy: 0.6636 - val_loss: 0.5722 - val_accuracy: 0.8561\n",
      "Epoch 39/1000\n",
      "27/32 [========================>.....] - ETA: 0s - loss: 0.8955 - accuracy: 0.6531\n",
      "Epoch 39: saving model to model/keypoint_classifier\\keypoint_classifier.hdf5\n",
      "32/32 [==============================] - 0s 8ms/step - loss: 0.8960 - accuracy: 0.6535 - val_loss: 0.5593 - val_accuracy: 0.8583\n",
      "Epoch 40/1000\n",
      "28/32 [=========================>....] - ETA: 0s - loss: 0.8842 - accuracy: 0.6551\n",
      "Epoch 40: saving model to model/keypoint_classifier\\keypoint_classifier.hdf5\n",
      "32/32 [==============================] - 0s 8ms/step - loss: 0.8806 - accuracy: 0.6592 - val_loss: 0.5604 - val_accuracy: 0.8627\n",
      "Epoch 41/1000\n",
      "29/32 [==========================>...] - ETA: 0s - loss: 0.8986 - accuracy: 0.6541\n",
      "Epoch 41: saving model to model/keypoint_classifier\\keypoint_classifier.hdf5\n",
      "32/32 [==============================] - 0s 8ms/step - loss: 0.8901 - accuracy: 0.6579 - val_loss: 0.5582 - val_accuracy: 0.8693\n",
      "Epoch 42/1000\n",
      "22/32 [===================>..........] - ETA: 0s - loss: 0.8501 - accuracy: 0.6754\n",
      "Epoch 42: saving model to model/keypoint_classifier\\keypoint_classifier.hdf5\n",
      "32/32 [==============================] - 0s 9ms/step - loss: 0.8620 - accuracy: 0.6675 - val_loss: 0.5447 - val_accuracy: 0.8590\n",
      "Epoch 43/1000\n",
      "28/32 [=========================>....] - ETA: 0s - loss: 0.8739 - accuracy: 0.6607\n",
      "Epoch 43: saving model to model/keypoint_classifier\\keypoint_classifier.hdf5\n",
      "32/32 [==============================] - 0s 9ms/step - loss: 0.8765 - accuracy: 0.6582 - val_loss: 0.5408 - val_accuracy: 0.8649\n",
      "Epoch 44/1000\n",
      "28/32 [=========================>....] - ETA: 0s - loss: 0.8633 - accuracy: 0.6688\n",
      "Epoch 44: saving model to model/keypoint_classifier\\keypoint_classifier.hdf5\n",
      "32/32 [==============================] - 0s 8ms/step - loss: 0.8651 - accuracy: 0.6697 - val_loss: 0.5355 - val_accuracy: 0.8789\n",
      "Epoch 45/1000\n",
      "29/32 [==========================>...] - ETA: 0s - loss: 0.8549 - accuracy: 0.6662\n",
      "Epoch 45: saving model to model/keypoint_classifier\\keypoint_classifier.hdf5\n",
      "32/32 [==============================] - 0s 9ms/step - loss: 0.8603 - accuracy: 0.6643 - val_loss: 0.5284 - val_accuracy: 0.8737\n",
      "Epoch 46/1000\n",
      "25/32 [======================>.......] - ETA: 0s - loss: 0.8530 - accuracy: 0.6678\n",
      "Epoch 46: saving model to model/keypoint_classifier\\keypoint_classifier.hdf5\n",
      "32/32 [==============================] - 0s 9ms/step - loss: 0.8495 - accuracy: 0.6758 - val_loss: 0.5279 - val_accuracy: 0.8833\n",
      "Epoch 47/1000\n",
      "31/32 [============================>.] - ETA: 0s - loss: 0.8443 - accuracy: 0.6726\n",
      "Epoch 47: saving model to model/keypoint_classifier\\keypoint_classifier.hdf5\n",
      "32/32 [==============================] - 0s 8ms/step - loss: 0.8456 - accuracy: 0.6716 - val_loss: 0.5208 - val_accuracy: 0.8847\n",
      "Epoch 48/1000\n",
      "30/32 [===========================>..] - ETA: 0s - loss: 0.8381 - accuracy: 0.6760\n",
      "Epoch 48: saving model to model/keypoint_classifier\\keypoint_classifier.hdf5\n",
      "32/32 [==============================] - 0s 8ms/step - loss: 0.8349 - accuracy: 0.6785 - val_loss: 0.5165 - val_accuracy: 0.8877\n",
      "Epoch 49/1000\n",
      "29/32 [==========================>...] - ETA: 0s - loss: 0.8505 - accuracy: 0.6762\n",
      "Epoch 49: saving model to model/keypoint_classifier\\keypoint_classifier.hdf5\n",
      "32/32 [==============================] - 0s 8ms/step - loss: 0.8426 - accuracy: 0.6787 - val_loss: 0.5126 - val_accuracy: 0.8884\n",
      "Epoch 50/1000\n",
      "30/32 [===========================>..] - ETA: 0s - loss: 0.8163 - accuracy: 0.6961\n",
      "Epoch 50: saving model to model/keypoint_classifier\\keypoint_classifier.hdf5\n",
      "32/32 [==============================] - 0s 8ms/step - loss: 0.8146 - accuracy: 0.6964 - val_loss: 0.4989 - val_accuracy: 0.8877\n",
      "Epoch 51/1000\n",
      "27/32 [========================>.....] - ETA: 0s - loss: 0.8417 - accuracy: 0.6826\n",
      "Epoch 51: saving model to model/keypoint_classifier\\keypoint_classifier.hdf5\n",
      "32/32 [==============================] - 0s 8ms/step - loss: 0.8585 - accuracy: 0.6741 - val_loss: 0.4989 - val_accuracy: 0.8869\n",
      "Epoch 52/1000\n",
      "28/32 [=========================>....] - ETA: 0s - loss: 0.8258 - accuracy: 0.6825\n",
      "Epoch 52: saving model to model/keypoint_classifier\\keypoint_classifier.hdf5\n",
      "32/32 [==============================] - 0s 9ms/step - loss: 0.8289 - accuracy: 0.6839 - val_loss: 0.4949 - val_accuracy: 0.8847\n",
      "Epoch 53/1000\n",
      "27/32 [========================>.....] - ETA: 0s - loss: 0.8388 - accuracy: 0.6858\n",
      "Epoch 53: saving model to model/keypoint_classifier\\keypoint_classifier.hdf5\n",
      "32/32 [==============================] - 0s 9ms/step - loss: 0.8428 - accuracy: 0.6812 - val_loss: 0.4985 - val_accuracy: 0.8928\n",
      "Epoch 54/1000\n",
      "26/32 [=======================>......] - ETA: 0s - loss: 0.8220 - accuracy: 0.6863\n",
      "Epoch 54: saving model to model/keypoint_classifier\\keypoint_classifier.hdf5\n",
      "32/32 [==============================] - 0s 8ms/step - loss: 0.8325 - accuracy: 0.6785 - val_loss: 0.4957 - val_accuracy: 0.8899\n",
      "Epoch 55/1000\n"
     ]
    },
    {
     "name": "stdout",
     "output_type": "stream",
     "text": [
      "31/32 [============================>.] - ETA: 0s - loss: 0.8058 - accuracy: 0.6915\n",
      "Epoch 55: saving model to model/keypoint_classifier\\keypoint_classifier.hdf5\n",
      "32/32 [==============================] - 0s 8ms/step - loss: 0.8096 - accuracy: 0.6883 - val_loss: 0.4810 - val_accuracy: 0.8943\n",
      "Epoch 56/1000\n",
      "29/32 [==========================>...] - ETA: 0s - loss: 0.8106 - accuracy: 0.6972\n",
      "Epoch 56: saving model to model/keypoint_classifier\\keypoint_classifier.hdf5\n",
      "32/32 [==============================] - 0s 9ms/step - loss: 0.8080 - accuracy: 0.6976 - val_loss: 0.4915 - val_accuracy: 0.8891\n",
      "Epoch 57/1000\n",
      "31/32 [============================>.] - ETA: 0s - loss: 0.8290 - accuracy: 0.6850\n",
      "Epoch 57: saving model to model/keypoint_classifier\\keypoint_classifier.hdf5\n",
      "32/32 [==============================] - 0s 9ms/step - loss: 0.8270 - accuracy: 0.6863 - val_loss: 0.4816 - val_accuracy: 0.8950\n",
      "Epoch 58/1000\n",
      "26/32 [=======================>......] - ETA: 0s - loss: 0.8240 - accuracy: 0.6854\n",
      "Epoch 58: saving model to model/keypoint_classifier\\keypoint_classifier.hdf5\n",
      "32/32 [==============================] - 0s 9ms/step - loss: 0.8203 - accuracy: 0.6885 - val_loss: 0.4834 - val_accuracy: 0.8935\n",
      "Epoch 59/1000\n",
      "28/32 [=========================>....] - ETA: 0s - loss: 0.8267 - accuracy: 0.6800\n",
      "Epoch 59: saving model to model/keypoint_classifier\\keypoint_classifier.hdf5\n",
      "32/32 [==============================] - 0s 9ms/step - loss: 0.8294 - accuracy: 0.6790 - val_loss: 0.4736 - val_accuracy: 0.9104\n",
      "Epoch 60/1000\n",
      "29/32 [==========================>...] - ETA: 0s - loss: 0.7976 - accuracy: 0.7039\n",
      "Epoch 60: saving model to model/keypoint_classifier\\keypoint_classifier.hdf5\n",
      "32/32 [==============================] - 0s 8ms/step - loss: 0.7969 - accuracy: 0.7030 - val_loss: 0.4709 - val_accuracy: 0.9016\n",
      "Epoch 61/1000\n",
      "30/32 [===========================>..] - ETA: 0s - loss: 0.8007 - accuracy: 0.6927\n",
      "Epoch 61: saving model to model/keypoint_classifier\\keypoint_classifier.hdf5\n",
      "32/32 [==============================] - 0s 8ms/step - loss: 0.8030 - accuracy: 0.6915 - val_loss: 0.4627 - val_accuracy: 0.9023\n",
      "Epoch 62/1000\n",
      "27/32 [========================>.....] - ETA: 0s - loss: 0.8206 - accuracy: 0.6910\n",
      "Epoch 62: saving model to model/keypoint_classifier\\keypoint_classifier.hdf5\n",
      "32/32 [==============================] - 0s 9ms/step - loss: 0.8130 - accuracy: 0.6949 - val_loss: 0.4584 - val_accuracy: 0.9178\n",
      "Epoch 63/1000\n",
      "27/32 [========================>.....] - ETA: 0s - loss: 0.8213 - accuracy: 0.6936\n",
      "Epoch 63: saving model to model/keypoint_classifier\\keypoint_classifier.hdf5\n",
      "32/32 [==============================] - 0s 9ms/step - loss: 0.8121 - accuracy: 0.6959 - val_loss: 0.4631 - val_accuracy: 0.9001\n",
      "Epoch 64/1000\n",
      "29/32 [==========================>...] - ETA: 0s - loss: 0.7963 - accuracy: 0.7058\n",
      "Epoch 64: saving model to model/keypoint_classifier\\keypoint_classifier.hdf5\n",
      "32/32 [==============================] - 0s 8ms/step - loss: 0.8030 - accuracy: 0.7025 - val_loss: 0.4576 - val_accuracy: 0.9031\n",
      "Epoch 65/1000\n",
      "24/32 [=====================>........] - ETA: 0s - loss: 0.7805 - accuracy: 0.7051\n",
      "Epoch 65: saving model to model/keypoint_classifier\\keypoint_classifier.hdf5\n",
      "32/32 [==============================] - 0s 8ms/step - loss: 0.7902 - accuracy: 0.7013 - val_loss: 0.4587 - val_accuracy: 0.9126\n",
      "Epoch 66/1000\n",
      "29/32 [==========================>...] - ETA: 0s - loss: 0.7904 - accuracy: 0.7010\n",
      "Epoch 66: saving model to model/keypoint_classifier\\keypoint_classifier.hdf5\n",
      "32/32 [==============================] - 0s 8ms/step - loss: 0.7866 - accuracy: 0.7020 - val_loss: 0.4582 - val_accuracy: 0.9068\n",
      "Epoch 67/1000\n",
      "30/32 [===========================>..] - ETA: 0s - loss: 0.7803 - accuracy: 0.7122\n",
      "Epoch 67: saving model to model/keypoint_classifier\\keypoint_classifier.hdf5\n",
      "32/32 [==============================] - 0s 8ms/step - loss: 0.7793 - accuracy: 0.7116 - val_loss: 0.4423 - val_accuracy: 0.9214\n",
      "Epoch 68/1000\n",
      "24/32 [=====================>........] - ETA: 0s - loss: 0.7879 - accuracy: 0.6999\n",
      "Epoch 68: saving model to model/keypoint_classifier\\keypoint_classifier.hdf5\n",
      "32/32 [==============================] - 0s 9ms/step - loss: 0.7936 - accuracy: 0.6981 - val_loss: 0.4441 - val_accuracy: 0.9112\n",
      "Epoch 69/1000\n",
      "29/32 [==========================>...] - ETA: 0s - loss: 0.7980 - accuracy: 0.7004\n",
      "Epoch 69: saving model to model/keypoint_classifier\\keypoint_classifier.hdf5\n",
      "32/32 [==============================] - 0s 9ms/step - loss: 0.7935 - accuracy: 0.6991 - val_loss: 0.4446 - val_accuracy: 0.9258\n",
      "Epoch 70/1000\n",
      "27/32 [========================>.....] - ETA: 0s - loss: 0.7572 - accuracy: 0.7161\n",
      "Epoch 70: saving model to model/keypoint_classifier\\keypoint_classifier.hdf5\n",
      "32/32 [==============================] - 0s 9ms/step - loss: 0.7650 - accuracy: 0.7116 - val_loss: 0.4444 - val_accuracy: 0.9141\n",
      "Epoch 71/1000\n",
      "28/32 [=========================>....] - ETA: 0s - loss: 0.7598 - accuracy: 0.7165\n",
      "Epoch 71: saving model to model/keypoint_classifier\\keypoint_classifier.hdf5\n",
      "32/32 [==============================] - 0s 8ms/step - loss: 0.7625 - accuracy: 0.7150 - val_loss: 0.4356 - val_accuracy: 0.9200\n",
      "Epoch 72/1000\n",
      "29/32 [==========================>...] - ETA: 0s - loss: 0.7734 - accuracy: 0.7042\n",
      "Epoch 72: saving model to model/keypoint_classifier\\keypoint_classifier.hdf5\n",
      "32/32 [==============================] - 0s 9ms/step - loss: 0.7755 - accuracy: 0.7037 - val_loss: 0.4407 - val_accuracy: 0.9038\n",
      "Epoch 73/1000\n",
      "28/32 [=========================>....] - ETA: 0s - loss: 0.7571 - accuracy: 0.7224\n",
      "Epoch 73: saving model to model/keypoint_classifier\\keypoint_classifier.hdf5\n",
      "32/32 [==============================] - 0s 8ms/step - loss: 0.7609 - accuracy: 0.7191 - val_loss: 0.4320 - val_accuracy: 0.9104\n",
      "Epoch 74/1000\n",
      "30/32 [===========================>..] - ETA: 0s - loss: 0.7709 - accuracy: 0.7026\n",
      "Epoch 74: saving model to model/keypoint_classifier\\keypoint_classifier.hdf5\n",
      "32/32 [==============================] - 0s 8ms/step - loss: 0.7652 - accuracy: 0.7045 - val_loss: 0.4515 - val_accuracy: 0.9023\n",
      "Epoch 75/1000\n",
      "28/32 [=========================>....] - ETA: 0s - loss: 0.7748 - accuracy: 0.7028\n",
      "Epoch 75: saving model to model/keypoint_classifier\\keypoint_classifier.hdf5\n",
      "32/32 [==============================] - 0s 9ms/step - loss: 0.7829 - accuracy: 0.7032 - val_loss: 0.4414 - val_accuracy: 0.9038\n",
      "Epoch 76/1000\n",
      "22/32 [===================>..........] - ETA: 0s - loss: 0.7594 - accuracy: 0.7198\n",
      "Epoch 76: saving model to model/keypoint_classifier\\keypoint_classifier.hdf5\n",
      "32/32 [==============================] - 0s 9ms/step - loss: 0.7751 - accuracy: 0.7096 - val_loss: 0.4464 - val_accuracy: 0.9016\n",
      "Epoch 77/1000\n",
      "28/32 [=========================>....] - ETA: 0s - loss: 0.7599 - accuracy: 0.7137\n",
      "Epoch 77: saving model to model/keypoint_classifier\\keypoint_classifier.hdf5\n",
      "32/32 [==============================] - 0s 8ms/step - loss: 0.7650 - accuracy: 0.7113 - val_loss: 0.4354 - val_accuracy: 0.9170\n",
      "Epoch 78/1000\n",
      "28/32 [=========================>....] - ETA: 0s - loss: 0.7760 - accuracy: 0.7143\n",
      "Epoch 78: saving model to model/keypoint_classifier\\keypoint_classifier.hdf5\n",
      "32/32 [==============================] - 0s 9ms/step - loss: 0.7708 - accuracy: 0.7162 - val_loss: 0.4278 - val_accuracy: 0.9104\n",
      "Epoch 79/1000\n",
      "31/32 [============================>.] - ETA: 0s - loss: 0.7756 - accuracy: 0.7049\n",
      "Epoch 79: saving model to model/keypoint_classifier\\keypoint_classifier.hdf5\n",
      "32/32 [==============================] - 0s 8ms/step - loss: 0.7727 - accuracy: 0.7071 - val_loss: 0.4361 - val_accuracy: 0.9119\n",
      "Epoch 80/1000\n",
      "28/32 [=========================>....] - ETA: 0s - loss: 0.7474 - accuracy: 0.7215\n",
      "Epoch 80: saving model to model/keypoint_classifier\\keypoint_classifier.hdf5\n",
      "32/32 [==============================] - 0s 9ms/step - loss: 0.7468 - accuracy: 0.7191 - val_loss: 0.4277 - val_accuracy: 0.9192\n",
      "Epoch 81/1000\n",
      "28/32 [=========================>....] - ETA: 0s - loss: 0.7629 - accuracy: 0.7034\n",
      "Epoch 81: saving model to model/keypoint_classifier\\keypoint_classifier.hdf5\n",
      "32/32 [==============================] - 0s 9ms/step - loss: 0.7613 - accuracy: 0.7067 - val_loss: 0.4175 - val_accuracy: 0.9266\n",
      "Epoch 82/1000\n"
     ]
    },
    {
     "name": "stdout",
     "output_type": "stream",
     "text": [
      "31/32 [============================>.] - ETA: 0s - loss: 0.7313 - accuracy: 0.7215\n",
      "Epoch 82: saving model to model/keypoint_classifier\\keypoint_classifier.hdf5\n",
      "32/32 [==============================] - 0s 11ms/step - loss: 0.7296 - accuracy: 0.7221 - val_loss: 0.4190 - val_accuracy: 0.9229\n",
      "Epoch 83/1000\n",
      "27/32 [========================>.....] - ETA: 0s - loss: 0.7636 - accuracy: 0.7205\n",
      "Epoch 83: saving model to model/keypoint_classifier\\keypoint_classifier.hdf5\n",
      "32/32 [==============================] - 0s 9ms/step - loss: 0.7537 - accuracy: 0.7218 - val_loss: 0.4193 - val_accuracy: 0.9207\n",
      "Epoch 84/1000\n",
      "29/32 [==========================>...] - ETA: 0s - loss: 0.7535 - accuracy: 0.7169\n",
      "Epoch 84: saving model to model/keypoint_classifier\\keypoint_classifier.hdf5\n",
      "32/32 [==============================] - 0s 8ms/step - loss: 0.7513 - accuracy: 0.7179 - val_loss: 0.4107 - val_accuracy: 0.9214\n",
      "Epoch 85/1000\n",
      "24/32 [=====================>........] - ETA: 0s - loss: 0.7254 - accuracy: 0.7360\n",
      "Epoch 85: saving model to model/keypoint_classifier\\keypoint_classifier.hdf5\n",
      "32/32 [==============================] - 0s 9ms/step - loss: 0.7354 - accuracy: 0.7277 - val_loss: 0.4063 - val_accuracy: 0.9273\n",
      "Epoch 86/1000\n",
      "27/32 [========================>.....] - ETA: 0s - loss: 0.7310 - accuracy: 0.7257\n",
      "Epoch 86: saving model to model/keypoint_classifier\\keypoint_classifier.hdf5\n",
      "32/32 [==============================] - 0s 9ms/step - loss: 0.7352 - accuracy: 0.7218 - val_loss: 0.4130 - val_accuracy: 0.9090\n",
      "Epoch 87/1000\n",
      "29/32 [==========================>...] - ETA: 0s - loss: 0.7205 - accuracy: 0.7284\n",
      "Epoch 87: saving model to model/keypoint_classifier\\keypoint_classifier.hdf5\n",
      "32/32 [==============================] - 0s 8ms/step - loss: 0.7205 - accuracy: 0.7275 - val_loss: 0.4064 - val_accuracy: 0.9207\n",
      "Epoch 88/1000\n",
      "24/32 [=====================>........] - ETA: 0s - loss: 0.7670 - accuracy: 0.7197\n",
      "Epoch 88: saving model to model/keypoint_classifier\\keypoint_classifier.hdf5\n",
      "32/32 [==============================] - 0s 10ms/step - loss: 0.7500 - accuracy: 0.7250 - val_loss: 0.4091 - val_accuracy: 0.9251\n",
      "Epoch 89/1000\n",
      "27/32 [========================>.....] - ETA: 0s - loss: 0.7264 - accuracy: 0.7237\n",
      "Epoch 89: saving model to model/keypoint_classifier\\keypoint_classifier.hdf5\n",
      "32/32 [==============================] - 0s 9ms/step - loss: 0.7239 - accuracy: 0.7258 - val_loss: 0.4104 - val_accuracy: 0.9119\n",
      "Epoch 90/1000\n",
      "30/32 [===========================>..] - ETA: 0s - loss: 0.7396 - accuracy: 0.7214\n",
      "Epoch 90: saving model to model/keypoint_classifier\\keypoint_classifier.hdf5\n",
      "32/32 [==============================] - 0s 8ms/step - loss: 0.7413 - accuracy: 0.7191 - val_loss: 0.4035 - val_accuracy: 0.9170\n",
      "Epoch 91/1000\n",
      "26/32 [=======================>......] - ETA: 0s - loss: 0.7329 - accuracy: 0.7200\n",
      "Epoch 91: saving model to model/keypoint_classifier\\keypoint_classifier.hdf5\n",
      "32/32 [==============================] - 0s 10ms/step - loss: 0.7287 - accuracy: 0.7199 - val_loss: 0.3979 - val_accuracy: 0.9170\n",
      "Epoch 92/1000\n",
      "29/32 [==========================>...] - ETA: 0s - loss: 0.7587 - accuracy: 0.7177\n",
      "Epoch 92: saving model to model/keypoint_classifier\\keypoint_classifier.hdf5\n",
      "32/32 [==============================] - 0s 11ms/step - loss: 0.7577 - accuracy: 0.7182 - val_loss: 0.3994 - val_accuracy: 0.9251\n",
      "Epoch 93/1000\n",
      "25/32 [======================>.......] - ETA: 0s - loss: 0.7100 - accuracy: 0.7319\n",
      "Epoch 93: saving model to model/keypoint_classifier\\keypoint_classifier.hdf5\n",
      "32/32 [==============================] - 0s 9ms/step - loss: 0.7149 - accuracy: 0.7319 - val_loss: 0.4066 - val_accuracy: 0.9148\n",
      "Epoch 94/1000\n",
      "30/32 [===========================>..] - ETA: 0s - loss: 0.7407 - accuracy: 0.7242\n",
      "Epoch 94: saving model to model/keypoint_classifier\\keypoint_classifier.hdf5\n",
      "32/32 [==============================] - 0s 8ms/step - loss: 0.7394 - accuracy: 0.7250 - val_loss: 0.4070 - val_accuracy: 0.9141\n",
      "Epoch 95/1000\n",
      "28/32 [=========================>....] - ETA: 0s - loss: 0.7402 - accuracy: 0.7229\n",
      "Epoch 95: saving model to model/keypoint_classifier\\keypoint_classifier.hdf5\n",
      "32/32 [==============================] - 0s 8ms/step - loss: 0.7356 - accuracy: 0.7236 - val_loss: 0.3914 - val_accuracy: 0.9251\n",
      "Epoch 96/1000\n",
      "27/32 [========================>.....] - ETA: 0s - loss: 0.7342 - accuracy: 0.7248\n",
      "Epoch 96: saving model to model/keypoint_classifier\\keypoint_classifier.hdf5\n",
      "32/32 [==============================] - 0s 9ms/step - loss: 0.7251 - accuracy: 0.7285 - val_loss: 0.4202 - val_accuracy: 0.9082\n",
      "Epoch 97/1000\n",
      "29/32 [==========================>...] - ETA: 0s - loss: 0.7101 - accuracy: 0.7352\n",
      "Epoch 97: saving model to model/keypoint_classifier\\keypoint_classifier.hdf5\n",
      "32/32 [==============================] - 0s 8ms/step - loss: 0.7091 - accuracy: 0.7348 - val_loss: 0.4024 - val_accuracy: 0.9222\n",
      "Epoch 98/1000\n",
      "25/32 [======================>.......] - ETA: 0s - loss: 0.6958 - accuracy: 0.7434\n",
      "Epoch 98: saving model to model/keypoint_classifier\\keypoint_classifier.hdf5\n",
      "32/32 [==============================] - 0s 9ms/step - loss: 0.7075 - accuracy: 0.7382 - val_loss: 0.3777 - val_accuracy: 0.9347\n",
      "Epoch 99/1000\n",
      "30/32 [===========================>..] - ETA: 0s - loss: 0.7216 - accuracy: 0.7276\n",
      "Epoch 99: saving model to model/keypoint_classifier\\keypoint_classifier.hdf5\n",
      "32/32 [==============================] - 0s 9ms/step - loss: 0.7245 - accuracy: 0.7282 - val_loss: 0.4041 - val_accuracy: 0.9178\n",
      "Epoch 100/1000\n",
      "26/32 [=======================>......] - ETA: 0s - loss: 0.7329 - accuracy: 0.7230\n",
      "Epoch 100: saving model to model/keypoint_classifier\\keypoint_classifier.hdf5\n",
      "32/32 [==============================] - 0s 9ms/step - loss: 0.7251 - accuracy: 0.7280 - val_loss: 0.3958 - val_accuracy: 0.9207\n",
      "Epoch 101/1000\n",
      "29/32 [==========================>...] - ETA: 0s - loss: 0.7369 - accuracy: 0.7287\n",
      "Epoch 101: saving model to model/keypoint_classifier\\keypoint_classifier.hdf5\n",
      "32/32 [==============================] - 0s 9ms/step - loss: 0.7302 - accuracy: 0.7302 - val_loss: 0.3877 - val_accuracy: 0.9258\n",
      "Epoch 102/1000\n",
      "29/32 [==========================>...] - ETA: 0s - loss: 0.7364 - accuracy: 0.7295\n",
      "Epoch 102: saving model to model/keypoint_classifier\\keypoint_classifier.hdf5\n",
      "32/32 [==============================] - 0s 8ms/step - loss: 0.7331 - accuracy: 0.7309 - val_loss: 0.3962 - val_accuracy: 0.9200\n",
      "Epoch 103/1000\n",
      "28/32 [=========================>....] - ETA: 0s - loss: 0.7359 - accuracy: 0.7232\n",
      "Epoch 103: saving model to model/keypoint_classifier\\keypoint_classifier.hdf5\n",
      "32/32 [==============================] - 0s 9ms/step - loss: 0.7365 - accuracy: 0.7240 - val_loss: 0.3982 - val_accuracy: 0.9192\n",
      "Epoch 104/1000\n",
      "29/32 [==========================>...] - ETA: 0s - loss: 0.6931 - accuracy: 0.7381\n",
      "Epoch 104: saving model to model/keypoint_classifier\\keypoint_classifier.hdf5\n",
      "32/32 [==============================] - 0s 8ms/step - loss: 0.7009 - accuracy: 0.7324 - val_loss: 0.3850 - val_accuracy: 0.9200\n",
      "Epoch 105/1000\n",
      "30/32 [===========================>..] - ETA: 0s - loss: 0.7136 - accuracy: 0.7372\n",
      "Epoch 105: saving model to model/keypoint_classifier\\keypoint_classifier.hdf5\n",
      "32/32 [==============================] - 0s 8ms/step - loss: 0.7211 - accuracy: 0.7343 - val_loss: 0.3836 - val_accuracy: 0.9207\n",
      "Epoch 106/1000\n",
      "26/32 [=======================>......] - ETA: 0s - loss: 0.7199 - accuracy: 0.7374\n",
      "Epoch 106: saving model to model/keypoint_classifier\\keypoint_classifier.hdf5\n",
      "32/32 [==============================] - 0s 9ms/step - loss: 0.7201 - accuracy: 0.7373 - val_loss: 0.3821 - val_accuracy: 0.9295\n",
      "Epoch 107/1000\n",
      "25/32 [======================>.......] - ETA: 0s - loss: 0.7161 - accuracy: 0.7366\n",
      "Epoch 107: saving model to model/keypoint_classifier\\keypoint_classifier.hdf5\n",
      "32/32 [==============================] - 0s 9ms/step - loss: 0.7177 - accuracy: 0.7368 - val_loss: 0.3859 - val_accuracy: 0.9214\n",
      "Epoch 108/1000\n",
      "32/32 [==============================] - ETA: 0s - loss: 0.7226 - accuracy: 0.7292\n",
      "Epoch 108: saving model to model/keypoint_classifier\\keypoint_classifier.hdf5\n",
      "32/32 [==============================] - 0s 8ms/step - loss: 0.7226 - accuracy: 0.7292 - val_loss: 0.3937 - val_accuracy: 0.9163\n",
      "Epoch 109/1000\n"
     ]
    },
    {
     "name": "stdout",
     "output_type": "stream",
     "text": [
      "32/32 [==============================] - ETA: 0s - loss: 0.7041 - accuracy: 0.7419\n",
      "Epoch 109: saving model to model/keypoint_classifier\\keypoint_classifier.hdf5\n",
      "32/32 [==============================] - 0s 8ms/step - loss: 0.7041 - accuracy: 0.7419 - val_loss: 0.3800 - val_accuracy: 0.9229\n",
      "Epoch 110/1000\n",
      "30/32 [===========================>..] - ETA: 0s - loss: 0.7367 - accuracy: 0.7260\n",
      "Epoch 110: saving model to model/keypoint_classifier\\keypoint_classifier.hdf5\n",
      "32/32 [==============================] - 0s 8ms/step - loss: 0.7297 - accuracy: 0.7294 - val_loss: 0.3777 - val_accuracy: 0.9229\n",
      "Epoch 111/1000\n",
      "29/32 [==========================>...] - ETA: 0s - loss: 0.7175 - accuracy: 0.7408\n",
      "Epoch 111: saving model to model/keypoint_classifier\\keypoint_classifier.hdf5\n",
      "32/32 [==============================] - 0s 8ms/step - loss: 0.7090 - accuracy: 0.7419 - val_loss: 0.3793 - val_accuracy: 0.9244\n",
      "Epoch 112/1000\n",
      "30/32 [===========================>..] - ETA: 0s - loss: 0.6983 - accuracy: 0.7477\n",
      "Epoch 112: saving model to model/keypoint_classifier\\keypoint_classifier.hdf5\n",
      "32/32 [==============================] - 0s 8ms/step - loss: 0.6938 - accuracy: 0.7505 - val_loss: 0.3840 - val_accuracy: 0.9214\n",
      "Epoch 113/1000\n",
      "30/32 [===========================>..] - ETA: 0s - loss: 0.7140 - accuracy: 0.7469\n",
      "Epoch 113: saving model to model/keypoint_classifier\\keypoint_classifier.hdf5\n",
      "32/32 [==============================] - 0s 8ms/step - loss: 0.7131 - accuracy: 0.7473 - val_loss: 0.3791 - val_accuracy: 0.9251\n",
      "Epoch 114/1000\n",
      "28/32 [=========================>....] - ETA: 0s - loss: 0.7103 - accuracy: 0.7386\n",
      "Epoch 114: saving model to model/keypoint_classifier\\keypoint_classifier.hdf5\n",
      "32/32 [==============================] - 0s 9ms/step - loss: 0.7062 - accuracy: 0.7414 - val_loss: 0.3609 - val_accuracy: 0.9317\n",
      "Epoch 115/1000\n",
      "28/32 [=========================>....] - ETA: 0s - loss: 0.7171 - accuracy: 0.7427\n",
      "Epoch 115: saving model to model/keypoint_classifier\\keypoint_classifier.hdf5\n",
      "32/32 [==============================] - 0s 9ms/step - loss: 0.7282 - accuracy: 0.7387 - val_loss: 0.3901 - val_accuracy: 0.9134\n",
      "Epoch 116/1000\n",
      "26/32 [=======================>......] - ETA: 0s - loss: 0.7003 - accuracy: 0.7344\n",
      "Epoch 116: saving model to model/keypoint_classifier\\keypoint_classifier.hdf5\n",
      "32/32 [==============================] - 0s 9ms/step - loss: 0.7100 - accuracy: 0.7326 - val_loss: 0.3923 - val_accuracy: 0.9185\n",
      "Epoch 117/1000\n",
      "26/32 [=======================>......] - ETA: 0s - loss: 0.7112 - accuracy: 0.7440\n",
      "Epoch 117: saving model to model/keypoint_classifier\\keypoint_classifier.hdf5\n",
      "32/32 [==============================] - 0s 9ms/step - loss: 0.7141 - accuracy: 0.7414 - val_loss: 0.3842 - val_accuracy: 0.9222\n",
      "Epoch 118/1000\n",
      "24/32 [=====================>........] - ETA: 0s - loss: 0.6974 - accuracy: 0.7432\n",
      "Epoch 118: saving model to model/keypoint_classifier\\keypoint_classifier.hdf5\n",
      "32/32 [==============================] - 0s 9ms/step - loss: 0.7085 - accuracy: 0.7390 - val_loss: 0.3692 - val_accuracy: 0.9266\n",
      "Epoch 119/1000\n",
      "29/32 [==========================>...] - ETA: 0s - loss: 0.7082 - accuracy: 0.7368\n",
      "Epoch 119: saving model to model/keypoint_classifier\\keypoint_classifier.hdf5\n",
      "32/32 [==============================] - 0s 9ms/step - loss: 0.7054 - accuracy: 0.7382 - val_loss: 0.3757 - val_accuracy: 0.9273\n",
      "Epoch 120/1000\n",
      "25/32 [======================>.......] - ETA: 0s - loss: 0.6828 - accuracy: 0.7544\n",
      "Epoch 120: saving model to model/keypoint_classifier\\keypoint_classifier.hdf5\n",
      "32/32 [==============================] - 0s 9ms/step - loss: 0.6848 - accuracy: 0.7542 - val_loss: 0.3722 - val_accuracy: 0.9236\n",
      "Epoch 121/1000\n",
      "15/32 [=============>................] - ETA: 0s - loss: 0.6982 - accuracy: 0.7469\n",
      "Epoch 121: saving model to model/keypoint_classifier\\keypoint_classifier.hdf5\n",
      "32/32 [==============================] - 0s 9ms/step - loss: 0.7001 - accuracy: 0.7431 - val_loss: 0.3671 - val_accuracy: 0.9258\n",
      "Epoch 122/1000\n",
      "30/32 [===========================>..] - ETA: 0s - loss: 0.6986 - accuracy: 0.7365\n",
      "Epoch 122: saving model to model/keypoint_classifier\\keypoint_classifier.hdf5\n",
      "32/32 [==============================] - 0s 9ms/step - loss: 0.6971 - accuracy: 0.7351 - val_loss: 0.3624 - val_accuracy: 0.9295\n",
      "Epoch 123/1000\n",
      "29/32 [==========================>...] - ETA: 0s - loss: 0.6895 - accuracy: 0.7481\n",
      "Epoch 123: saving model to model/keypoint_classifier\\keypoint_classifier.hdf5\n",
      "32/32 [==============================] - 0s 8ms/step - loss: 0.6939 - accuracy: 0.7476 - val_loss: 0.3733 - val_accuracy: 0.9236\n",
      "Epoch 124/1000\n",
      "27/32 [========================>.....] - ETA: 0s - loss: 0.7099 - accuracy: 0.7402\n",
      "Epoch 124: saving model to model/keypoint_classifier\\keypoint_classifier.hdf5\n",
      "32/32 [==============================] - 0s 9ms/step - loss: 0.6963 - accuracy: 0.7434 - val_loss: 0.3801 - val_accuracy: 0.9192\n",
      "Epoch 125/1000\n",
      "26/32 [=======================>......] - ETA: 0s - loss: 0.6938 - accuracy: 0.7422\n",
      "Epoch 125: saving model to model/keypoint_classifier\\keypoint_classifier.hdf5\n",
      "32/32 [==============================] - 0s 8ms/step - loss: 0.7049 - accuracy: 0.7395 - val_loss: 0.3683 - val_accuracy: 0.9156\n",
      "Epoch 126/1000\n",
      "30/32 [===========================>..] - ETA: 0s - loss: 0.6775 - accuracy: 0.7440\n",
      "Epoch 126: saving model to model/keypoint_classifier\\keypoint_classifier.hdf5\n",
      "32/32 [==============================] - 0s 8ms/step - loss: 0.6769 - accuracy: 0.7436 - val_loss: 0.3693 - val_accuracy: 0.9156\n",
      "Epoch 127/1000\n",
      "29/32 [==========================>...] - ETA: 0s - loss: 0.7106 - accuracy: 0.7352\n",
      "Epoch 127: saving model to model/keypoint_classifier\\keypoint_classifier.hdf5\n",
      "32/32 [==============================] - 0s 8ms/step - loss: 0.7085 - accuracy: 0.7348 - val_loss: 0.3681 - val_accuracy: 0.9214\n",
      "Epoch 128/1000\n",
      "31/32 [============================>.] - ETA: 0s - loss: 0.6802 - accuracy: 0.7457\n",
      "Epoch 128: saving model to model/keypoint_classifier\\keypoint_classifier.hdf5\n",
      "32/32 [==============================] - 0s 8ms/step - loss: 0.6762 - accuracy: 0.7478 - val_loss: 0.3544 - val_accuracy: 0.9266\n",
      "Epoch 129/1000\n",
      "27/32 [========================>.....] - ETA: 0s - loss: 0.7283 - accuracy: 0.7318\n",
      "Epoch 129: saving model to model/keypoint_classifier\\keypoint_classifier.hdf5\n",
      "32/32 [==============================] - 0s 9ms/step - loss: 0.7214 - accuracy: 0.7343 - val_loss: 0.3551 - val_accuracy: 0.9288\n",
      "Epoch 130/1000\n",
      "29/32 [==========================>...] - ETA: 0s - loss: 0.6795 - accuracy: 0.7438\n",
      "Epoch 130: saving model to model/keypoint_classifier\\keypoint_classifier.hdf5\n",
      "32/32 [==============================] - 0s 8ms/step - loss: 0.6841 - accuracy: 0.7424 - val_loss: 0.3667 - val_accuracy: 0.9244\n",
      "Epoch 131/1000\n",
      "30/32 [===========================>..] - ETA: 0s - loss: 0.6848 - accuracy: 0.7469\n",
      "Epoch 131: saving model to model/keypoint_classifier\\keypoint_classifier.hdf5\n",
      "32/32 [==============================] - 0s 8ms/step - loss: 0.6839 - accuracy: 0.7473 - val_loss: 0.3599 - val_accuracy: 0.9229\n",
      "Epoch 132/1000\n",
      "24/32 [=====================>........] - ETA: 0s - loss: 0.6831 - accuracy: 0.7409\n",
      "Epoch 132: saving model to model/keypoint_classifier\\keypoint_classifier.hdf5\n",
      "32/32 [==============================] - 0s 9ms/step - loss: 0.6839 - accuracy: 0.7402 - val_loss: 0.3721 - val_accuracy: 0.9214\n",
      "Epoch 133/1000\n",
      "29/32 [==========================>...] - ETA: 0s - loss: 0.6708 - accuracy: 0.7462\n",
      "Epoch 133: saving model to model/keypoint_classifier\\keypoint_classifier.hdf5\n",
      "32/32 [==============================] - 0s 9ms/step - loss: 0.6814 - accuracy: 0.7427 - val_loss: 0.3663 - val_accuracy: 0.9141\n",
      "Epoch 134/1000\n",
      "29/32 [==========================>...] - ETA: 0s - loss: 0.6772 - accuracy: 0.7470\n",
      "Epoch 134: saving model to model/keypoint_classifier\\keypoint_classifier.hdf5\n",
      "32/32 [==============================] - 0s 8ms/step - loss: 0.6850 - accuracy: 0.7466 - val_loss: 0.3534 - val_accuracy: 0.9273\n",
      "Epoch 135/1000\n",
      "30/32 [===========================>..] - ETA: 0s - loss: 0.6969 - accuracy: 0.7391\n",
      "Epoch 135: saving model to model/keypoint_classifier\\keypoint_classifier.hdf5\n",
      "32/32 [==============================] - 0s 8ms/step - loss: 0.6987 - accuracy: 0.7370 - val_loss: 0.3604 - val_accuracy: 0.9310\n"
     ]
    },
    {
     "name": "stdout",
     "output_type": "stream",
     "text": [
      "Epoch 136/1000\n",
      "28/32 [=========================>....] - ETA: 0s - loss: 0.6845 - accuracy: 0.7478\n",
      "Epoch 136: saving model to model/keypoint_classifier\\keypoint_classifier.hdf5\n",
      "32/32 [==============================] - 0s 8ms/step - loss: 0.6755 - accuracy: 0.7502 - val_loss: 0.3519 - val_accuracy: 0.9258\n",
      "Epoch 137/1000\n",
      "30/32 [===========================>..] - ETA: 0s - loss: 0.6770 - accuracy: 0.7458\n",
      "Epoch 137: saving model to model/keypoint_classifier\\keypoint_classifier.hdf5\n",
      "32/32 [==============================] - 0s 9ms/step - loss: 0.6778 - accuracy: 0.7461 - val_loss: 0.3517 - val_accuracy: 0.9222\n",
      "Epoch 138/1000\n",
      "25/32 [======================>.......] - ETA: 0s - loss: 0.6878 - accuracy: 0.7384\n",
      "Epoch 138: saving model to model/keypoint_classifier\\keypoint_classifier.hdf5\n",
      "32/32 [==============================] - 0s 8ms/step - loss: 0.6811 - accuracy: 0.7400 - val_loss: 0.3589 - val_accuracy: 0.9185\n",
      "Epoch 139/1000\n",
      "30/32 [===========================>..] - ETA: 0s - loss: 0.6901 - accuracy: 0.7471\n",
      "Epoch 139: saving model to model/keypoint_classifier\\keypoint_classifier.hdf5\n",
      "32/32 [==============================] - 0s 9ms/step - loss: 0.6895 - accuracy: 0.7476 - val_loss: 0.3421 - val_accuracy: 0.9273\n",
      "Epoch 140/1000\n",
      "27/32 [========================>.....] - ETA: 0s - loss: 0.6973 - accuracy: 0.7425\n",
      "Epoch 140: saving model to model/keypoint_classifier\\keypoint_classifier.hdf5\n",
      "32/32 [==============================] - 0s 8ms/step - loss: 0.6951 - accuracy: 0.7453 - val_loss: 0.3505 - val_accuracy: 0.9266\n",
      "Epoch 141/1000\n",
      "30/32 [===========================>..] - ETA: 0s - loss: 0.6701 - accuracy: 0.7466\n",
      "Epoch 141: saving model to model/keypoint_classifier\\keypoint_classifier.hdf5\n",
      "32/32 [==============================] - 0s 8ms/step - loss: 0.6678 - accuracy: 0.7500 - val_loss: 0.3677 - val_accuracy: 0.9134\n",
      "Epoch 142/1000\n",
      "31/32 [============================>.] - ETA: 0s - loss: 0.6718 - accuracy: 0.7482\n",
      "Epoch 142: saving model to model/keypoint_classifier\\keypoint_classifier.hdf5\n",
      "32/32 [==============================] - 0s 8ms/step - loss: 0.6709 - accuracy: 0.7480 - val_loss: 0.3344 - val_accuracy: 0.9339\n",
      "Epoch 143/1000\n",
      "31/32 [============================>.] - ETA: 0s - loss: 0.6792 - accuracy: 0.7475\n",
      "Epoch 143: saving model to model/keypoint_classifier\\keypoint_classifier.hdf5\n",
      "32/32 [==============================] - 0s 8ms/step - loss: 0.6785 - accuracy: 0.7483 - val_loss: 0.3515 - val_accuracy: 0.9236\n",
      "Epoch 144/1000\n",
      "31/32 [============================>.] - ETA: 0s - loss: 0.6799 - accuracy: 0.7467\n",
      "Epoch 144: saving model to model/keypoint_classifier\\keypoint_classifier.hdf5\n",
      "32/32 [==============================] - 0s 8ms/step - loss: 0.6769 - accuracy: 0.7461 - val_loss: 0.3537 - val_accuracy: 0.9134\n",
      "Epoch 145/1000\n",
      "30/32 [===========================>..] - ETA: 0s - loss: 0.6768 - accuracy: 0.7604\n",
      "Epoch 145: saving model to model/keypoint_classifier\\keypoint_classifier.hdf5\n",
      "32/32 [==============================] - 0s 9ms/step - loss: 0.6807 - accuracy: 0.7586 - val_loss: 0.3528 - val_accuracy: 0.9244\n",
      "Epoch 146/1000\n",
      "32/32 [==============================] - ETA: 0s - loss: 0.6714 - accuracy: 0.7522\n",
      "Epoch 146: saving model to model/keypoint_classifier\\keypoint_classifier.hdf5\n",
      "32/32 [==============================] - 0s 8ms/step - loss: 0.6714 - accuracy: 0.7522 - val_loss: 0.3560 - val_accuracy: 0.9273\n",
      "Epoch 147/1000\n",
      "28/32 [=========================>....] - ETA: 0s - loss: 0.6839 - accuracy: 0.7433\n",
      "Epoch 147: saving model to model/keypoint_classifier\\keypoint_classifier.hdf5\n",
      "32/32 [==============================] - 0s 8ms/step - loss: 0.6842 - accuracy: 0.7434 - val_loss: 0.3399 - val_accuracy: 0.9302\n",
      "Epoch 148/1000\n",
      "29/32 [==========================>...] - ETA: 0s - loss: 0.6699 - accuracy: 0.7559\n",
      "Epoch 148: saving model to model/keypoint_classifier\\keypoint_classifier.hdf5\n",
      "32/32 [==============================] - 0s 8ms/step - loss: 0.6711 - accuracy: 0.7549 - val_loss: 0.3515 - val_accuracy: 0.9273\n",
      "Epoch 149/1000\n",
      "29/32 [==========================>...] - ETA: 0s - loss: 0.6686 - accuracy: 0.7508\n",
      "Epoch 149: saving model to model/keypoint_classifier\\keypoint_classifier.hdf5\n",
      "32/32 [==============================] - 0s 8ms/step - loss: 0.6598 - accuracy: 0.7529 - val_loss: 0.3438 - val_accuracy: 0.9251\n",
      "Epoch 150/1000\n",
      "29/32 [==========================>...] - ETA: 0s - loss: 0.6733 - accuracy: 0.7503\n",
      "Epoch 150: saving model to model/keypoint_classifier\\keypoint_classifier.hdf5\n",
      "32/32 [==============================] - 0s 9ms/step - loss: 0.6718 - accuracy: 0.7495 - val_loss: 0.3397 - val_accuracy: 0.9273\n",
      "Epoch 151/1000\n",
      "26/32 [=======================>......] - ETA: 0s - loss: 0.6896 - accuracy: 0.7548\n",
      "Epoch 151: saving model to model/keypoint_classifier\\keypoint_classifier.hdf5\n",
      "32/32 [==============================] - 0s 9ms/step - loss: 0.6776 - accuracy: 0.7605 - val_loss: 0.3411 - val_accuracy: 0.9244\n",
      "Epoch 152/1000\n",
      "29/32 [==========================>...] - ETA: 0s - loss: 0.6624 - accuracy: 0.7578\n",
      "Epoch 152: saving model to model/keypoint_classifier\\keypoint_classifier.hdf5\n",
      "32/32 [==============================] - 0s 9ms/step - loss: 0.6625 - accuracy: 0.7561 - val_loss: 0.3298 - val_accuracy: 0.9273\n",
      "Epoch 153/1000\n",
      "28/32 [=========================>....] - ETA: 0s - loss: 0.6682 - accuracy: 0.7520\n",
      "Epoch 153: saving model to model/keypoint_classifier\\keypoint_classifier.hdf5\n",
      "32/32 [==============================] - 0s 9ms/step - loss: 0.6634 - accuracy: 0.7547 - val_loss: 0.3540 - val_accuracy: 0.9090\n",
      "Epoch 154/1000\n",
      "27/32 [========================>.....] - ETA: 0s - loss: 0.6659 - accuracy: 0.7494\n",
      "Epoch 154: saving model to model/keypoint_classifier\\keypoint_classifier.hdf5\n",
      "32/32 [==============================] - 0s 9ms/step - loss: 0.6699 - accuracy: 0.7466 - val_loss: 0.3379 - val_accuracy: 0.9258\n",
      "Epoch 155/1000\n",
      "29/32 [==========================>...] - ETA: 0s - loss: 0.6558 - accuracy: 0.7616\n",
      "Epoch 155: saving model to model/keypoint_classifier\\keypoint_classifier.hdf5\n",
      "32/32 [==============================] - 0s 8ms/step - loss: 0.6613 - accuracy: 0.7591 - val_loss: 0.3435 - val_accuracy: 0.9207\n",
      "Epoch 156/1000\n",
      "30/32 [===========================>..] - ETA: 0s - loss: 0.6840 - accuracy: 0.7432\n",
      "Epoch 156: saving model to model/keypoint_classifier\\keypoint_classifier.hdf5\n",
      "32/32 [==============================] - 0s 8ms/step - loss: 0.6827 - accuracy: 0.7429 - val_loss: 0.3394 - val_accuracy: 0.9244\n",
      "Epoch 157/1000\n",
      "28/32 [=========================>....] - ETA: 0s - loss: 0.6645 - accuracy: 0.7514\n",
      "Epoch 157: saving model to model/keypoint_classifier\\keypoint_classifier.hdf5\n",
      "32/32 [==============================] - 0s 8ms/step - loss: 0.6615 - accuracy: 0.7527 - val_loss: 0.3439 - val_accuracy: 0.9163\n",
      "Epoch 158/1000\n",
      "29/32 [==========================>...] - ETA: 0s - loss: 0.6750 - accuracy: 0.7470\n",
      "Epoch 158: saving model to model/keypoint_classifier\\keypoint_classifier.hdf5\n",
      "32/32 [==============================] - 0s 8ms/step - loss: 0.6713 - accuracy: 0.7495 - val_loss: 0.3370 - val_accuracy: 0.9185\n",
      "Epoch 159/1000\n",
      "28/32 [=========================>....] - ETA: 0s - loss: 0.6624 - accuracy: 0.7508\n",
      "Epoch 159: saving model to model/keypoint_classifier\\keypoint_classifier.hdf5\n",
      "32/32 [==============================] - 0s 8ms/step - loss: 0.6659 - accuracy: 0.7498 - val_loss: 0.3378 - val_accuracy: 0.9163\n",
      "Epoch 160/1000\n",
      "23/32 [====================>.........] - ETA: 0s - loss: 0.6688 - accuracy: 0.7476\n",
      "Epoch 160: saving model to model/keypoint_classifier\\keypoint_classifier.hdf5\n",
      "32/32 [==============================] - 0s 8ms/step - loss: 0.6725 - accuracy: 0.7480 - val_loss: 0.3429 - val_accuracy: 0.9192\n",
      "Epoch 161/1000\n",
      "29/32 [==========================>...] - ETA: 0s - loss: 0.6759 - accuracy: 0.7476\n",
      "Epoch 161: saving model to model/keypoint_classifier\\keypoint_classifier.hdf5\n",
      "32/32 [==============================] - 0s 8ms/step - loss: 0.6728 - accuracy: 0.7480 - val_loss: 0.3402 - val_accuracy: 0.9156\n",
      "Epoch 162/1000\n",
      "31/32 [============================>.] - ETA: 0s - loss: 0.6501 - accuracy: 0.7603\n",
      "Epoch 162: saving model to model/keypoint_classifier\\keypoint_classifier.hdf5\n",
      "32/32 [==============================] - 0s 8ms/step - loss: 0.6532 - accuracy: 0.7586 - val_loss: 0.3331 - val_accuracy: 0.9207\n"
     ]
    },
    {
     "name": "stdout",
     "output_type": "stream",
     "text": [
      "Epoch 163/1000\n",
      "32/32 [==============================] - ETA: 0s - loss: 0.6642 - accuracy: 0.7610\n",
      "Epoch 163: saving model to model/keypoint_classifier\\keypoint_classifier.hdf5\n",
      "32/32 [==============================] - 0s 8ms/step - loss: 0.6642 - accuracy: 0.7610 - val_loss: 0.3323 - val_accuracy: 0.9170\n",
      "Epoch 164/1000\n",
      "29/32 [==========================>...] - ETA: 0s - loss: 0.6645 - accuracy: 0.7551\n",
      "Epoch 164: saving model to model/keypoint_classifier\\keypoint_classifier.hdf5\n",
      "32/32 [==============================] - 0s 8ms/step - loss: 0.6551 - accuracy: 0.7583 - val_loss: 0.3357 - val_accuracy: 0.9178\n",
      "Epoch 165/1000\n",
      "18/32 [===============>..............] - ETA: 0s - loss: 0.6821 - accuracy: 0.7517\n",
      "Epoch 165: saving model to model/keypoint_classifier\\keypoint_classifier.hdf5\n",
      "32/32 [==============================] - 0s 8ms/step - loss: 0.6689 - accuracy: 0.7551 - val_loss: 0.3235 - val_accuracy: 0.9251\n",
      "Epoch 166/1000\n",
      "28/32 [=========================>....] - ETA: 0s - loss: 0.6550 - accuracy: 0.7612\n",
      "Epoch 166: saving model to model/keypoint_classifier\\keypoint_classifier.hdf5\n",
      "32/32 [==============================] - 0s 9ms/step - loss: 0.6540 - accuracy: 0.7591 - val_loss: 0.3265 - val_accuracy: 0.9170\n",
      "Epoch 167/1000\n",
      "28/32 [=========================>....] - ETA: 0s - loss: 0.6604 - accuracy: 0.7598\n",
      "Epoch 167: saving model to model/keypoint_classifier\\keypoint_classifier.hdf5\n",
      "32/32 [==============================] - 0s 8ms/step - loss: 0.6647 - accuracy: 0.7591 - val_loss: 0.3374 - val_accuracy: 0.9112\n",
      "Epoch 168/1000\n",
      "29/32 [==========================>...] - ETA: 0s - loss: 0.6782 - accuracy: 0.7527\n",
      "Epoch 168: saving model to model/keypoint_classifier\\keypoint_classifier.hdf5\n",
      "32/32 [==============================] - 0s 8ms/step - loss: 0.6730 - accuracy: 0.7551 - val_loss: 0.3305 - val_accuracy: 0.9192\n",
      "Epoch 169/1000\n",
      "25/32 [======================>.......] - ETA: 0s - loss: 0.6539 - accuracy: 0.7559\n",
      "Epoch 169: saving model to model/keypoint_classifier\\keypoint_classifier.hdf5\n",
      "32/32 [==============================] - 0s 9ms/step - loss: 0.6562 - accuracy: 0.7534 - val_loss: 0.3248 - val_accuracy: 0.9214\n",
      "Epoch 170/1000\n",
      "30/32 [===========================>..] - ETA: 0s - loss: 0.6418 - accuracy: 0.7661\n",
      "Epoch 170: saving model to model/keypoint_classifier\\keypoint_classifier.hdf5\n",
      "32/32 [==============================] - 0s 8ms/step - loss: 0.6367 - accuracy: 0.7662 - val_loss: 0.3295 - val_accuracy: 0.9178\n",
      "Epoch 171/1000\n",
      "29/32 [==========================>...] - ETA: 0s - loss: 0.6752 - accuracy: 0.7570\n",
      "Epoch 171: saving model to model/keypoint_classifier\\keypoint_classifier.hdf5\n",
      "32/32 [==============================] - 0s 8ms/step - loss: 0.6733 - accuracy: 0.7549 - val_loss: 0.3361 - val_accuracy: 0.9185\n",
      "Epoch 172/1000\n",
      "29/32 [==========================>...] - ETA: 0s - loss: 0.6399 - accuracy: 0.7691\n",
      "Epoch 172: saving model to model/keypoint_classifier\\keypoint_classifier.hdf5\n",
      "32/32 [==============================] - 0s 9ms/step - loss: 0.6373 - accuracy: 0.7691 - val_loss: 0.3260 - val_accuracy: 0.9185\n",
      "Epoch 173/1000\n",
      "26/32 [=======================>......] - ETA: 0s - loss: 0.6421 - accuracy: 0.7596\n",
      "Epoch 173: saving model to model/keypoint_classifier\\keypoint_classifier.hdf5\n",
      "32/32 [==============================] - 0s 9ms/step - loss: 0.6483 - accuracy: 0.7564 - val_loss: 0.3310 - val_accuracy: 0.9163\n",
      "Epoch 174/1000\n",
      "28/32 [=========================>....] - ETA: 0s - loss: 0.6730 - accuracy: 0.7467\n",
      "Epoch 174: saving model to model/keypoint_classifier\\keypoint_classifier.hdf5\n",
      "32/32 [==============================] - 0s 8ms/step - loss: 0.6655 - accuracy: 0.7490 - val_loss: 0.3237 - val_accuracy: 0.9222\n",
      "Epoch 175/1000\n",
      "26/32 [=======================>......] - ETA: 0s - loss: 0.6407 - accuracy: 0.7593\n",
      "Epoch 175: saving model to model/keypoint_classifier\\keypoint_classifier.hdf5\n",
      "32/32 [==============================] - 0s 9ms/step - loss: 0.6377 - accuracy: 0.7620 - val_loss: 0.3310 - val_accuracy: 0.9192\n",
      "Epoch 176/1000\n",
      "26/32 [=======================>......] - ETA: 0s - loss: 0.6693 - accuracy: 0.7614\n",
      "Epoch 176: saving model to model/keypoint_classifier\\keypoint_classifier.hdf5\n",
      "32/32 [==============================] - 0s 9ms/step - loss: 0.6688 - accuracy: 0.7573 - val_loss: 0.3221 - val_accuracy: 0.9207\n",
      "Epoch 177/1000\n",
      "29/32 [==========================>...] - ETA: 0s - loss: 0.6630 - accuracy: 0.7487\n",
      "Epoch 177: saving model to model/keypoint_classifier\\keypoint_classifier.hdf5\n",
      "32/32 [==============================] - 0s 8ms/step - loss: 0.6566 - accuracy: 0.7542 - val_loss: 0.3253 - val_accuracy: 0.9266\n",
      "Epoch 178/1000\n",
      "27/32 [========================>.....] - ETA: 0s - loss: 0.6549 - accuracy: 0.7668\n",
      "Epoch 178: saving model to model/keypoint_classifier\\keypoint_classifier.hdf5\n",
      "32/32 [==============================] - 0s 9ms/step - loss: 0.6466 - accuracy: 0.7693 - val_loss: 0.3309 - val_accuracy: 0.9134\n",
      "Epoch 179/1000\n",
      "29/32 [==========================>...] - ETA: 0s - loss: 0.6565 - accuracy: 0.7548\n",
      "Epoch 179: saving model to model/keypoint_classifier\\keypoint_classifier.hdf5\n",
      "32/32 [==============================] - 0s 8ms/step - loss: 0.6497 - accuracy: 0.7571 - val_loss: 0.3190 - val_accuracy: 0.9185\n",
      "Epoch 180/1000\n",
      "27/32 [========================>.....] - ETA: 0s - loss: 0.6287 - accuracy: 0.7685\n",
      "Epoch 180: saving model to model/keypoint_classifier\\keypoint_classifier.hdf5\n",
      "32/32 [==============================] - 0s 8ms/step - loss: 0.6255 - accuracy: 0.7735 - val_loss: 0.3086 - val_accuracy: 0.9295\n",
      "Epoch 181/1000\n",
      "30/32 [===========================>..] - ETA: 0s - loss: 0.6392 - accuracy: 0.7685\n",
      "Epoch 181: saving model to model/keypoint_classifier\\keypoint_classifier.hdf5\n",
      "32/32 [==============================] - 0s 9ms/step - loss: 0.6427 - accuracy: 0.7669 - val_loss: 0.3164 - val_accuracy: 0.9236\n",
      "Epoch 182/1000\n",
      "28/32 [=========================>....] - ETA: 0s - loss: 0.6718 - accuracy: 0.7472\n",
      "Epoch 182: saving model to model/keypoint_classifier\\keypoint_classifier.hdf5\n",
      "32/32 [==============================] - 0s 9ms/step - loss: 0.6679 - accuracy: 0.7510 - val_loss: 0.3255 - val_accuracy: 0.9229\n",
      "Epoch 183/1000\n",
      "31/32 [============================>.] - ETA: 0s - loss: 0.6399 - accuracy: 0.7618\n",
      "Epoch 183: saving model to model/keypoint_classifier\\keypoint_classifier.hdf5\n",
      "32/32 [==============================] - 0s 8ms/step - loss: 0.6464 - accuracy: 0.7613 - val_loss: 0.3281 - val_accuracy: 0.9163\n",
      "Epoch 184/1000\n",
      "27/32 [========================>.....] - ETA: 0s - loss: 0.6381 - accuracy: 0.7656\n",
      "Epoch 184: saving model to model/keypoint_classifier\\keypoint_classifier.hdf5\n",
      "32/32 [==============================] - 0s 9ms/step - loss: 0.6308 - accuracy: 0.7684 - val_loss: 0.3144 - val_accuracy: 0.9185\n",
      "Epoch 185/1000\n",
      "28/32 [=========================>....] - ETA: 0s - loss: 0.6522 - accuracy: 0.7640\n",
      "Epoch 185: saving model to model/keypoint_classifier\\keypoint_classifier.hdf5\n",
      "32/32 [==============================] - 0s 9ms/step - loss: 0.6558 - accuracy: 0.7591 - val_loss: 0.3138 - val_accuracy: 0.9222\n",
      "Epoch 186/1000\n",
      "29/32 [==========================>...] - ETA: 0s - loss: 0.6409 - accuracy: 0.7648\n",
      "Epoch 186: saving model to model/keypoint_classifier\\keypoint_classifier.hdf5\n",
      "32/32 [==============================] - 0s 8ms/step - loss: 0.6382 - accuracy: 0.7649 - val_loss: 0.3259 - val_accuracy: 0.9170\n",
      "Epoch 187/1000\n",
      "27/32 [========================>.....] - ETA: 0s - loss: 0.6677 - accuracy: 0.7520\n",
      "Epoch 187: saving model to model/keypoint_classifier\\keypoint_classifier.hdf5\n",
      "32/32 [==============================] - 0s 8ms/step - loss: 0.6623 - accuracy: 0.7569 - val_loss: 0.3270 - val_accuracy: 0.9192\n",
      "Epoch 188/1000\n",
      "29/32 [==========================>...] - ETA: 0s - loss: 0.6311 - accuracy: 0.7635\n",
      "Epoch 188: saving model to model/keypoint_classifier\\keypoint_classifier.hdf5\n",
      "32/32 [==============================] - 0s 8ms/step - loss: 0.6340 - accuracy: 0.7625 - val_loss: 0.3202 - val_accuracy: 0.9141\n",
      "Epoch 189/1000\n",
      "25/32 [======================>.......] - ETA: 0s - loss: 0.6423 - accuracy: 0.7741\n",
      "Epoch 189: saving model to model/keypoint_classifier\\keypoint_classifier.hdf5\n",
      "32/32 [==============================] - 0s 8ms/step - loss: 0.6349 - accuracy: 0.7750 - val_loss: 0.3106 - val_accuracy: 0.9251\n"
     ]
    },
    {
     "name": "stdout",
     "output_type": "stream",
     "text": [
      "Epoch 190/1000\n",
      "30/32 [===========================>..] - ETA: 0s - loss: 0.6432 - accuracy: 0.7607\n",
      "Epoch 190: saving model to model/keypoint_classifier\\keypoint_classifier.hdf5\n",
      "32/32 [==============================] - 0s 8ms/step - loss: 0.6427 - accuracy: 0.7608 - val_loss: 0.3091 - val_accuracy: 0.9229\n",
      "Epoch 191/1000\n",
      "17/32 [==============>...............] - ETA: 0s - loss: 0.6210 - accuracy: 0.7753\n",
      "Epoch 191: saving model to model/keypoint_classifier\\keypoint_classifier.hdf5\n",
      "32/32 [==============================] - 0s 7ms/step - loss: 0.6267 - accuracy: 0.7735 - val_loss: 0.3273 - val_accuracy: 0.9046\n",
      "Epoch 192/1000\n",
      "27/32 [========================>.....] - ETA: 0s - loss: 0.6266 - accuracy: 0.7752\n",
      "Epoch 192: saving model to model/keypoint_classifier\\keypoint_classifier.hdf5\n",
      "32/32 [==============================] - 0s 8ms/step - loss: 0.6225 - accuracy: 0.7760 - val_loss: 0.2981 - val_accuracy: 0.9332\n",
      "Epoch 193/1000\n",
      "28/32 [=========================>....] - ETA: 0s - loss: 0.6371 - accuracy: 0.7667\n",
      "Epoch 193: saving model to model/keypoint_classifier\\keypoint_classifier.hdf5\n",
      "32/32 [==============================] - 0s 9ms/step - loss: 0.6419 - accuracy: 0.7637 - val_loss: 0.2994 - val_accuracy: 0.9339\n",
      "Epoch 194/1000\n",
      "29/32 [==========================>...] - ETA: 0s - loss: 0.6374 - accuracy: 0.7718\n",
      "Epoch 194: saving model to model/keypoint_classifier\\keypoint_classifier.hdf5\n",
      "32/32 [==============================] - 0s 9ms/step - loss: 0.6402 - accuracy: 0.7686 - val_loss: 0.3106 - val_accuracy: 0.9317\n",
      "Epoch 195/1000\n",
      "29/32 [==========================>...] - ETA: 0s - loss: 0.6376 - accuracy: 0.7608\n",
      "Epoch 195: saving model to model/keypoint_classifier\\keypoint_classifier.hdf5\n",
      "32/32 [==============================] - 0s 8ms/step - loss: 0.6382 - accuracy: 0.7613 - val_loss: 0.3294 - val_accuracy: 0.9068\n",
      "Epoch 196/1000\n",
      "26/32 [=======================>......] - ETA: 0s - loss: 0.6238 - accuracy: 0.7725\n",
      "Epoch 196: saving model to model/keypoint_classifier\\keypoint_classifier.hdf5\n",
      "32/32 [==============================] - 0s 9ms/step - loss: 0.6267 - accuracy: 0.7701 - val_loss: 0.2968 - val_accuracy: 0.9354\n",
      "Epoch 197/1000\n",
      "26/32 [=======================>......] - ETA: 0s - loss: 0.6523 - accuracy: 0.7605\n",
      "Epoch 197: saving model to model/keypoint_classifier\\keypoint_classifier.hdf5\n",
      "32/32 [==============================] - 0s 8ms/step - loss: 0.6583 - accuracy: 0.7573 - val_loss: 0.3098 - val_accuracy: 0.9200\n",
      "Epoch 198/1000\n",
      "27/32 [========================>.....] - ETA: 0s - loss: 0.6542 - accuracy: 0.7604\n",
      "Epoch 198: saving model to model/keypoint_classifier\\keypoint_classifier.hdf5\n",
      "32/32 [==============================] - 0s 9ms/step - loss: 0.6476 - accuracy: 0.7652 - val_loss: 0.3198 - val_accuracy: 0.9207\n",
      "Epoch 199/1000\n",
      "30/32 [===========================>..] - ETA: 0s - loss: 0.6523 - accuracy: 0.7508\n",
      "Epoch 199: saving model to model/keypoint_classifier\\keypoint_classifier.hdf5\n",
      "32/32 [==============================] - 0s 9ms/step - loss: 0.6504 - accuracy: 0.7510 - val_loss: 0.3243 - val_accuracy: 0.8979\n",
      "Epoch 200/1000\n",
      "30/32 [===========================>..] - ETA: 0s - loss: 0.6539 - accuracy: 0.7570\n",
      "Epoch 200: saving model to model/keypoint_classifier\\keypoint_classifier.hdf5\n",
      "32/32 [==============================] - 0s 8ms/step - loss: 0.6501 - accuracy: 0.7586 - val_loss: 0.3278 - val_accuracy: 0.9038\n",
      "Epoch 201/1000\n",
      "28/32 [=========================>....] - ETA: 0s - loss: 0.5942 - accuracy: 0.7796\n",
      "Epoch 201: saving model to model/keypoint_classifier\\keypoint_classifier.hdf5\n",
      "32/32 [==============================] - 0s 9ms/step - loss: 0.5938 - accuracy: 0.7799 - val_loss: 0.3078 - val_accuracy: 0.9251\n",
      "Epoch 202/1000\n",
      "24/32 [=====================>........] - ETA: 0s - loss: 0.6213 - accuracy: 0.7731\n",
      "Epoch 202: saving model to model/keypoint_classifier\\keypoint_classifier.hdf5\n",
      "32/32 [==============================] - 0s 8ms/step - loss: 0.6366 - accuracy: 0.7642 - val_loss: 0.3148 - val_accuracy: 0.9170\n",
      "Epoch 203/1000\n",
      "27/32 [========================>.....] - ETA: 0s - loss: 0.6347 - accuracy: 0.7700\n",
      "Epoch 203: saving model to model/keypoint_classifier\\keypoint_classifier.hdf5\n",
      "32/32 [==============================] - 0s 9ms/step - loss: 0.6281 - accuracy: 0.7708 - val_loss: 0.3036 - val_accuracy: 0.9280\n",
      "Epoch 204/1000\n",
      "27/32 [========================>.....] - ETA: 0s - loss: 0.6083 - accuracy: 0.7662\n",
      "Epoch 204: saving model to model/keypoint_classifier\\keypoint_classifier.hdf5\n",
      "32/32 [==============================] - 0s 9ms/step - loss: 0.6149 - accuracy: 0.7664 - val_loss: 0.2973 - val_accuracy: 0.9222\n",
      "Epoch 205/1000\n",
      "27/32 [========================>.....] - ETA: 0s - loss: 0.6387 - accuracy: 0.7590\n",
      "Epoch 205: saving model to model/keypoint_classifier\\keypoint_classifier.hdf5\n",
      "32/32 [==============================] - 0s 8ms/step - loss: 0.6411 - accuracy: 0.7591 - val_loss: 0.3163 - val_accuracy: 0.9134\n",
      "Epoch 206/1000\n",
      "29/32 [==========================>...] - ETA: 0s - loss: 0.6546 - accuracy: 0.7554\n",
      "Epoch 206: saving model to model/keypoint_classifier\\keypoint_classifier.hdf5\n",
      "32/32 [==============================] - 0s 8ms/step - loss: 0.6536 - accuracy: 0.7554 - val_loss: 0.3100 - val_accuracy: 0.9207\n",
      "Epoch 207/1000\n",
      "28/32 [=========================>....] - ETA: 0s - loss: 0.6309 - accuracy: 0.7631\n",
      "Epoch 207: saving model to model/keypoint_classifier\\keypoint_classifier.hdf5\n",
      "32/32 [==============================] - 0s 8ms/step - loss: 0.6262 - accuracy: 0.7657 - val_loss: 0.3061 - val_accuracy: 0.9148\n",
      "Epoch 208/1000\n",
      "28/32 [=========================>....] - ETA: 0s - loss: 0.6280 - accuracy: 0.7693\n",
      "Epoch 208: saving model to model/keypoint_classifier\\keypoint_classifier.hdf5\n",
      "32/32 [==============================] - 0s 8ms/step - loss: 0.6342 - accuracy: 0.7701 - val_loss: 0.3149 - val_accuracy: 0.9170\n",
      "Epoch 209/1000\n",
      "30/32 [===========================>..] - ETA: 0s - loss: 0.6357 - accuracy: 0.7656\n",
      "Epoch 209: saving model to model/keypoint_classifier\\keypoint_classifier.hdf5\n",
      "32/32 [==============================] - 0s 8ms/step - loss: 0.6347 - accuracy: 0.7664 - val_loss: 0.3177 - val_accuracy: 0.9156\n",
      "Epoch 210/1000\n",
      "16/32 [==============>...............] - ETA: 0s - loss: 0.6643 - accuracy: 0.7495\n",
      "Epoch 210: saving model to model/keypoint_classifier\\keypoint_classifier.hdf5\n",
      "32/32 [==============================] - 0s 8ms/step - loss: 0.6413 - accuracy: 0.7595 - val_loss: 0.3054 - val_accuracy: 0.9295\n",
      "Epoch 211/1000\n",
      "28/32 [=========================>....] - ETA: 0s - loss: 0.6289 - accuracy: 0.7709\n",
      "Epoch 211: saving model to model/keypoint_classifier\\keypoint_classifier.hdf5\n",
      "32/32 [==============================] - 0s 9ms/step - loss: 0.6173 - accuracy: 0.7742 - val_loss: 0.3035 - val_accuracy: 0.9200\n",
      "Epoch 212/1000\n",
      "28/32 [=========================>....] - ETA: 0s - loss: 0.6301 - accuracy: 0.7603\n",
      "Epoch 212: saving model to model/keypoint_classifier\\keypoint_classifier.hdf5\n",
      "32/32 [==============================] - 0s 9ms/step - loss: 0.6301 - accuracy: 0.7603 - val_loss: 0.3039 - val_accuracy: 0.9200\n",
      "Epoch 213/1000\n",
      "29/32 [==========================>...] - ETA: 0s - loss: 0.6503 - accuracy: 0.7632\n",
      "Epoch 213: saving model to model/keypoint_classifier\\keypoint_classifier.hdf5\n",
      "32/32 [==============================] - 0s 8ms/step - loss: 0.6414 - accuracy: 0.7652 - val_loss: 0.3124 - val_accuracy: 0.9163\n",
      "Epoch 214/1000\n",
      "24/32 [=====================>........] - ETA: 0s - loss: 0.6627 - accuracy: 0.7480\n",
      "Epoch 214: saving model to model/keypoint_classifier\\keypoint_classifier.hdf5\n",
      "32/32 [==============================] - 0s 9ms/step - loss: 0.6548 - accuracy: 0.7529 - val_loss: 0.3018 - val_accuracy: 0.9273\n",
      "Epoch 215/1000\n",
      "29/32 [==========================>...] - ETA: 0s - loss: 0.6240 - accuracy: 0.7670\n",
      "Epoch 215: saving model to model/keypoint_classifier\\keypoint_classifier.hdf5\n",
      "32/32 [==============================] - 0s 8ms/step - loss: 0.6274 - accuracy: 0.7664 - val_loss: 0.3203 - val_accuracy: 0.9119\n",
      "Epoch 216/1000\n",
      "28/32 [=========================>....] - ETA: 0s - loss: 0.6039 - accuracy: 0.7810\n",
      "Epoch 216: saving model to model/keypoint_classifier\\keypoint_classifier.hdf5\n",
      "32/32 [==============================] - 0s 9ms/step - loss: 0.6075 - accuracy: 0.7786 - val_loss: 0.3047 - val_accuracy: 0.9185\n"
     ]
    },
    {
     "name": "stdout",
     "output_type": "stream",
     "text": [
      "Epoch 216: early stopping\n"
     ]
    },
    {
     "data": {
      "text/plain": [
       "<keras.callbacks.History at 0x2276c069f90>"
      ]
     },
     "execution_count": 69,
     "metadata": {},
     "output_type": "execute_result"
    }
   ],
   "source": [
    "model.fit(\n",
    "    X_train,\n",
    "    y_train,\n",
    "    epochs=1000,\n",
    "    batch_size=128,\n",
    "    validation_data=(X_test, y_test),\n",
    "    callbacks=[cp_callback, es_callback]\n",
    ")"
   ]
  },
  {
   "cell_type": "code",
   "execution_count": 70,
   "metadata": {
    "colab": {
     "base_uri": "https://localhost:8080/"
    },
    "id": "pxvb2Y299hE3",
    "outputId": "59eb3185-2e37-4b9e-bc9d-ab1b8ac29b7f"
   },
   "outputs": [
    {
     "name": "stdout",
     "output_type": "stream",
     "text": [
      "11/11 [==============================] - 0s 5ms/step - loss: 0.3047 - accuracy: 0.9185\n"
     ]
    }
   ],
   "source": [
    "# Model evaluation\n",
    "val_loss, val_acc = model.evaluate(X_test, y_test, batch_size=128)"
   ]
  },
  {
   "cell_type": "code",
   "execution_count": 71,
   "metadata": {
    "id": "RBkmDeUW9hE4"
   },
   "outputs": [],
   "source": [
    "# Loading the saved model\n",
    "model = tf.keras.models.load_model(model_save_path)"
   ]
  },
  {
   "cell_type": "code",
   "execution_count": 72,
   "metadata": {
    "colab": {
     "base_uri": "https://localhost:8080/"
    },
    "id": "tFz9Tb0I9hE4",
    "outputId": "1c3b3528-54ae-4ee2-ab04-77429211cbef"
   },
   "outputs": [
    {
     "name": "stdout",
     "output_type": "stream",
     "text": [
      "1/1 [==============================] - 0s 94ms/step\n",
      "[9.7396833e-01 2.5993796e-02 2.8475712e-05 5.5052294e-07 8.8002816e-06\n",
      " 8.5565848e-13 2.5183640e-14 6.0158598e-08]\n",
      "0\n"
     ]
    }
   ],
   "source": [
    "# Inference test\n",
    "predict_result = model.predict(np.array([X_test[0]]))\n",
    "print(np.squeeze(predict_result))\n",
    "print(np.argmax(np.squeeze(predict_result)))"
   ]
  },
  {
   "cell_type": "markdown",
   "metadata": {
    "id": "S3U4yNWx9hE4"
   },
   "source": [
    "# Confusion matrix"
   ]
  },
  {
   "cell_type": "code",
   "execution_count": 73,
   "metadata": {
    "colab": {
     "base_uri": "https://localhost:8080/",
     "height": 582
    },
    "id": "AP1V6SCk9hE5",
    "outputId": "08e41a80-7a4a-4619-8125-ecc371368d19"
   },
   "outputs": [
    {
     "name": "stdout",
     "output_type": "stream",
     "text": [
      "43/43 [==============================] - 0s 3ms/step\n"
     ]
    },
    {
     "data": {
      "image/png": "[encoded data removed]",
      "text/plain": [
       "<Figure size 700x600 with 2 Axes>"
      ]
     },
     "metadata": {},
     "output_type": "display_data"
    },
    {
     "name": "stdout",
     "output_type": "stream",
     "text": [
      "Classification Report\n",
      "              precision    recall  f1-score   support\n",
      "\n",
      "           0       0.97      0.94      0.96       404\n",
      "           1       0.99      0.79      0.88       393\n",
      "           2       0.80      0.99      0.88       323\n",
      "           3       0.86      1.00      0.92        85\n",
      "           4       0.95      1.00      0.97        58\n",
      "           5       1.00      1.00      1.00        19\n",
      "           6       1.00      1.00      1.00        32\n",
      "           7       0.98      1.00      0.99        48\n",
      "\n",
      "    accuracy                           0.92      1362\n",
      "   macro avg       0.94      0.96      0.95      1362\n",
      "weighted avg       0.93      0.92      0.92      1362\n",
      "\n"
     ]
    }
   ],
   "source": [
    "import pandas as pd\n",
    "import seaborn as sns\n",
    "import matplotlib.pyplot as plt\n",
    "from sklearn.metrics import confusion_matrix, classification_report\n",
    "\n",
    "def print_confusion_matrix(y_true, y_pred, report=True):\n",
    "    labels = sorted(list(set(y_true)))\n",
    "    cmx_data = confusion_matrix(y_true, y_pred, labels=labels)\n",
    "    \n",
    "    df_cmx = pd.DataFrame(cmx_data, index=labels, columns=labels)\n",
    " \n",
    "    fig, ax = plt.subplots(figsize=(7, 6))\n",
    "    sns.heatmap(df_cmx, annot=True, fmt='g' ,square=False)\n",
    "    ax.set_ylim(len(set(y_true)), 0)\n",
    "    plt.show()\n",
    "    \n",
    "    if report:\n",
    "        print('Classification Report')\n",
    "        print(classification_report(y_test, y_pred))\n",
    "\n",
    "Y_pred = model.predict(X_test)\n",
    "y_pred = np.argmax(Y_pred, axis=1)\n",
    "\n",
    "print_confusion_matrix(y_test, y_pred)"
   ]
  },
  {
   "cell_type": "markdown",
   "metadata": {
    "id": "FNP6aqzc9hE5"
   },
   "source": [
    "# Convert to model for Tensorflow-Lite"
   ]
  },
  {
   "cell_type": "code",
   "execution_count": 74,
   "metadata": {
    "id": "ODjnYyld9hE6"
   },
   "outputs": [],
   "source": [
    "# Save as a model dedicated to inference\n",
    "model.save(model_save_path, include_optimizer=False)"
   ]
  },
  {
   "cell_type": "code",
   "execution_count": 75,
   "metadata": {
    "colab": {
     "base_uri": "https://localhost:8080/"
    },
    "id": "zRfuK8Y59hE6",
    "outputId": "a4ca585c-b5d5-4244-8291-8674063209bb"
   },
   "outputs": [
    {
     "name": "stderr",
     "output_type": "stream",
     "text": [
      "WARNING:absl:Found untraced functions such as _update_step_xla while saving (showing 1 of 1). These functions will not be directly callable after loading.\n"
     ]
    },
    {
     "name": "stdout",
     "output_type": "stream",
     "text": [
      "INFO:tensorflow:Assets written to: C:\\Users\\rashi\\AppData\\Local\\Temp\\tmpzzqsrfeh\\assets\n"
     ]
    },
    {
     "name": "stderr",
     "output_type": "stream",
     "text": [
      "INFO:tensorflow:Assets written to: C:\\Users\\rashi\\AppData\\Local\\Temp\\tmpzzqsrfeh\\assets\n"
     ]
    },
    {
     "data": {
      "text/plain": [
       "6772"
      ]
     },
     "execution_count": 75,
     "metadata": {},
     "output_type": "execute_result"
    }
   ],
   "source": [
    "# Transform model (quantization)\n",
    "\n",
    "converter = tf.lite.TFLiteConverter.from_keras_model(model)\n",
    "converter.optimizations = [tf.lite.Optimize.DEFAULT]\n",
    "tflite_quantized_model = converter.convert()\n",
    "\n",
    "open(tflite_save_path, 'wb').write(tflite_quantized_model)"
   ]
  },
  {
   "cell_type": "markdown",
   "metadata": {
    "id": "CHBPBXdx9hE6"
   },
   "source": [
    "# Inference test"
   ]
  },
  {
   "cell_type": "code",
   "execution_count": 76,
   "metadata": {
    "id": "mGAzLocO9hE7"
   },
   "outputs": [],
   "source": [
    "interpreter = tf.lite.Interpreter(model_path=tflite_save_path)\n",
    "interpreter.allocate_tensors()"
   ]
  },
  {
   "cell_type": "code",
   "execution_count": 77,
   "metadata": {
    "id": "oQuDK8YS9hE7"
   },
   "outputs": [],
   "source": [
    "# Get I / O tensor\n",
    "input_details = interpreter.get_input_details()\n",
    "output_details = interpreter.get_output_details()"
   ]
  },
  {
   "cell_type": "code",
   "execution_count": 78,
   "metadata": {
    "id": "2_ixAf_l9hE7"
   },
   "outputs": [],
   "source": [
    "interpreter.set_tensor(input_details[0]['index'], np.array([X_test[0]]))"
   ]
  },
  {
   "cell_type": "code",
   "execution_count": 79,
   "metadata": {
    "colab": {
     "base_uri": "https://localhost:8080/"
    },
    "id": "s4FoAnuc9hE7",
    "outputId": "91f18257-8d8b-4ef3-c558-e9b5f94fabbf",
    "scrolled": true
   },
   "outputs": [
    {
     "name": "stdout",
     "output_type": "stream",
     "text": [
      "CPU times: total: 0 ns\n",
      "Wall time: 0 ns\n"
     ]
    }
   ],
   "source": [
    "%%time\n",
    "# Inference implementation\n",
    "interpreter.invoke()\n",
    "tflite_results = interpreter.get_tensor(output_details[0]['index'])"
   ]
  },
  {
   "cell_type": "code",
   "execution_count": 80,
   "metadata": {
    "colab": {
     "base_uri": "https://localhost:8080/"
    },
    "id": "vONjp19J9hE8",
    "outputId": "77205e24-fd00-42c4-f7b6-e06e527c2cba"
   },
   "outputs": [
    {
     "name": "stdout",
     "output_type": "stream",
     "text": [
      "[9.7396833e-01 2.5993770e-02 2.8475712e-05 5.5052288e-07 8.8002980e-06\n",
      " 8.5566011e-13 2.5183736e-14 6.0158712e-08]\n",
      "0\n"
     ]
    }
   ],
   "source": [
    "print(np.squeeze(tflite_results))\n",
    "print(np.argmax(np.squeeze(tflite_results)))"
   ]
  },
  {
   "cell_type": "code",
   "execution_count": null,
   "metadata": {},
   "outputs": [],
   "source": []
  }
 ],
 "metadata": {
  "accelerator": "GPU",
  "colab": {
   "collapsed_sections": [],
   "name": "keypoint_classification_EN.ipynb",
   "provenance": [],
   "toc_visible": true
  },
  "kernelspec": {
   "display_name": "Python 3 (ipykernel)",
   "language": "python",
   "name": "python3"
  },
  "language_info": {
   "codemirror_mode": {
    "name": "ipython",
    "version": 3
   },
   "file_extension": ".py",
   "mimetype": "text/x-python",
   "name": "python",
   "nbconvert_exporter": "python",
   "pygments_lexer": "ipython3",
   "version": "3.10.5"
  }
 },
 "nbformat": 4,
 "nbformat_minor": 1
}
